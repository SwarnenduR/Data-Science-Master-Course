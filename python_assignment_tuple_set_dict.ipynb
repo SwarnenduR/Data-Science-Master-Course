{
 "cells": [
  {
   "cell_type": "markdown",
   "id": "b20f1839-9834-4847-a3f6-b2b542348b63",
   "metadata": {},
   "source": [
    "## Question 1"
   ]
  },
  {
   "cell_type": "markdown",
   "id": "d30b9f30-0c81-4a64-b253-9baf3281787c",
   "metadata": {},
   "source": [
    "### What are the characteristics of the tuples? Is tuple immutable?\n",
    "\n",
    "#### Tuples are used to store collections of different types of data. Tuples items are ordered, unchangable and allow duplicate values and items are indexed also. Yes Tuple is immutable."
   ]
  },
  {
   "cell_type": "markdown",
   "id": "bde186f8-fae4-4753-a304-5f593a749648",
   "metadata": {},
   "source": [
    "## Question 2"
   ]
  },
  {
   "cell_type": "markdown",
   "id": "36a37223-6e5b-4930-8a63-f9859f203a51",
   "metadata": {},
   "source": [
    "### What are the two tuple methods in python?\n",
    "#### There are only two tuple methods count() and index()"
   ]
  },
  {
   "cell_type": "code",
   "execution_count": 1,
   "id": "498202ab-2880-4d9d-8859-4b68e9ef28af",
   "metadata": {},
   "outputs": [
    {
     "name": "stdout",
     "output_type": "stream",
     "text": [
      "3\n",
      "4\n"
     ]
    }
   ],
   "source": [
    "### Example\n",
    "\n",
    "tuple1 = (\"Swarnendu\", 2, 2, 3, True, \"Swarnendu\", \"Ruidas\", True, False, \"Swarnendu\")\n",
    "print(tuple1.count(\"Swarnendu\"))\n",
    "print(tuple1.index(True))"
   ]
  },
  {
   "cell_type": "markdown",
   "id": "7cc7cc17-2fc8-450e-8b45-79d003fff6de",
   "metadata": {},
   "source": [
    "### Give a reason why tuples have only two in-built methods as compared to Lists.\n",
    "#### As tuple is immutable in nature, generally elements can't be changed frequently or reassigning values to the same tuple item index is not possible whereas in list its mutable so can be changed the values when ever we want. "
   ]
  },
  {
   "cell_type": "markdown",
   "id": "397f177a-a589-4316-8e17-032dbc8ad62a",
   "metadata": {},
   "source": [
    "## Question 3"
   ]
  },
  {
   "cell_type": "markdown",
   "id": "1aa8f846-353e-4352-a778-862a4647833a",
   "metadata": {},
   "source": [
    "### Which collection datatypes in python do not allow duplicate items?\n",
    "#### Set doesn't allow duplicate items in python"
   ]
  },
  {
   "cell_type": "code",
   "execution_count": 2,
   "id": "66133bf9-a409-4611-9aa2-768e03bb6d4e",
   "metadata": {},
   "outputs": [
    {
     "name": "stdout",
     "output_type": "stream",
     "text": [
      "{1, 2, 3, 4}\n"
     ]
    }
   ],
   "source": [
    "## Write a code using a set to remove duplicates from the given list.\n",
    "\n",
    "List = [1, 1, 1, 2, 1, 3, 1, 4, 2, 1, 2, 2, 2, 3, 2, 4, 3, 1, 3, 2, 3, 3, 3, 4, 4, 1, 4, 2, 4, 3, 4, 4]\n",
    "Set = set(List)\n",
    "print(Set)"
   ]
  },
  {
   "cell_type": "markdown",
   "id": "90eef2c5-42de-49e6-b82e-5e5f0f6fa5d2",
   "metadata": {},
   "source": [
    "## Question 4"
   ]
  },
  {
   "cell_type": "markdown",
   "id": "0e93c173-af9f-422e-adfb-9f4b03253f32",
   "metadata": {},
   "source": [
    "### Explain the difference between the union() and update() methods for a set.\n",
    "#### Both update() and union() perform the union operation. However, update() adds all missing elements to the set on which it is called whereas union() creates a new set. Consequently, the return value of update() is None and the return value of union() is a set."
   ]
  },
  {
   "cell_type": "code",
   "execution_count": 3,
   "id": "cdc7313d-bcb7-4446-9ae6-b1f6ba8e58b2",
   "metadata": {},
   "outputs": [
    {
     "name": "stdout",
     "output_type": "stream",
     "text": [
      "{1, 2, 3, 4, 5}\n"
     ]
    },
    {
     "data": {
      "text/plain": [
       "{1, 2, 3, 4, 5}"
      ]
     },
     "execution_count": 3,
     "metadata": {},
     "output_type": "execute_result"
    }
   ],
   "source": [
    "## Give an example of each method.\n",
    "\n",
    "s = {1, 2, 3}\n",
    "s.update({4, 5}) #return None\n",
    "print(s) # separate print is required\n",
    "\n",
    "s1 = {1, 2, 3}\n",
    "s1.union({4, 5}) #return set"
   ]
  },
  {
   "cell_type": "markdown",
   "id": "b87f624b-5a06-444c-bf17-c5c0eda2cd2c",
   "metadata": {},
   "source": [
    "## Question 5"
   ]
  },
  {
   "cell_type": "markdown",
   "id": "9181f06b-9c03-46d5-9fbd-801bc5d8052c",
   "metadata": {},
   "source": [
    "### What is a dictionary? Also, state whether a dictionary is ordered or unordered.\n",
    "#### Dictionaries are used to store data values in key:value pairs. It is a collection of heterogeneous data which is changeable and do not allow duplicates.\n",
    "#### Dictionaries are ordered from 3.7 python version and before that it was unordered."
   ]
  },
  {
   "cell_type": "code",
   "execution_count": 4,
   "id": "f88bc564-8e88-4bf5-a12a-38812f10c93a",
   "metadata": {},
   "outputs": [
    {
     "data": {
      "text/plain": [
       "{'brand': 'Hyundai',\n",
       " 'electric': False,\n",
       " 'cng': True,\n",
       " 'year of man': 2022,\n",
       " 'colors': ['red', 'white', 'aqua teal']}"
      ]
     },
     "execution_count": 4,
     "metadata": {},
     "output_type": "execute_result"
    }
   ],
   "source": [
    "# Example\n",
    "my_car_dic = {\"brand\": \"Hyundai\", \"electric\": False, \"cng\": True, \"year of man\": 2022, \"colors\": [\"red\", \"white\", \"aqua teal\"]}\n",
    "my_car_dic"
   ]
  },
  {
   "cell_type": "markdown",
   "id": "8f2da589-4ea9-44e6-945a-72f3df31f3f4",
   "metadata": {},
   "source": [
    "## Question 6"
   ]
  },
  {
   "cell_type": "markdown",
   "id": "35e19e7b-91c3-4cdc-a8e9-0245e8281e99",
   "metadata": {},
   "source": [
    "### Can we create a nested dictionary? \n",
    "#### Yes we can create a nested dictionary."
   ]
  },
  {
   "cell_type": "code",
   "execution_count": 5,
   "id": "dff20893-67a3-4242-b35e-4a0151963822",
   "metadata": {},
   "outputs": [
    {
     "data": {
      "text/plain": [
       "{'brand': 'Hyundai',\n",
       " 'electric': False,\n",
       " 'cng': True,\n",
       " 'year of man': 2022,\n",
       " 'colors': {'red': 'not available',\n",
       "  'white': 'available',\n",
       "  'aqua teal': 'available'}}"
      ]
     },
     "execution_count": 5,
     "metadata": {},
     "output_type": "execute_result"
    }
   ],
   "source": [
    "## If so, please give an example by creating a simple one-level nested dictionary.\n",
    "\n",
    "car_color_availability = {\"brand\": \"Hyundai\", \"electric\": False, \"cng\": True, \"year of man\": 2022, \"colors\": {\"red\": \"not available\", \"white\": \"available\", \"aqua teal\": \"available\"}}\n",
    "car_color_availability"
   ]
  },
  {
   "cell_type": "markdown",
   "id": "456c00a3-ae03-4dc6-9793-7f196c65b4e1",
   "metadata": {},
   "source": [
    "## Question 7"
   ]
  },
  {
   "cell_type": "code",
   "execution_count": 6,
   "id": "cd345a32-9d79-48d9-a7b0-732ddc368d47",
   "metadata": {},
   "outputs": [
    {
     "data": {
      "text/plain": [
       "{'language': 'Python',\n",
       " 'course': 'Data Science Masters',\n",
       " 'topics': ['Python', 'Machine Learning', 'Deep Learning']}"
      ]
     },
     "execution_count": 6,
     "metadata": {},
     "output_type": "execute_result"
    }
   ],
   "source": [
    "dict1 = {'language' : 'Python', 'course': 'Data Science Masters'}\n",
    "dict1.setdefault(\"topics\", ['Python', 'Machine Learning', 'Deep Learning'])\n",
    "dict1"
   ]
  },
  {
   "cell_type": "markdown",
   "id": "64269a31-d660-4ba8-a469-8f739004154b",
   "metadata": {},
   "source": [
    "## Question 8"
   ]
  },
  {
   "cell_type": "markdown",
   "id": "8d9d4e03-79de-4ab0-ad39-74b58e1b025d",
   "metadata": {},
   "source": [
    "### What are the three view objects in dictionaries?\n",
    "#### The view objects in dictionaries are keys, values and items."
   ]
  },
  {
   "cell_type": "code",
   "execution_count": 7,
   "id": "a85820ce-6142-4672-a0a1-7e94fd4127ea",
   "metadata": {},
   "outputs": [
    {
     "name": "stdout",
     "output_type": "stream",
     "text": [
      "dict_keys(['Sport', 'Teams'])\n",
      "dict_values(['Cricket', ['India', 'Australia', 'England', 'South Africa', 'Sri Lanka', 'New Zealand']])\n",
      "dict_items([('Sport', 'Cricket'), ('Teams', ['India', 'Australia', 'England', 'South Africa', 'Sri Lanka', 'New Zealand'])])\n"
     ]
    }
   ],
   "source": [
    "## Use the three in-built methods in python to display these three view objects for the given dictionary.\n",
    "\n",
    "dict1 = {'Sport': 'Cricket' , 'Teams': ['India', 'Australia', 'England', 'South Africa', 'Sri Lanka', 'New Zealand']}\n",
    "print(dict1.keys())\n",
    "print(dict1.values())\n",
    "print(dict1.items())"
   ]
  },
  {
   "cell_type": "code",
   "execution_count": null,
   "id": "74a1f6a0-b5e0-4324-94d4-414c5fa267dc",
   "metadata": {},
   "outputs": [],
   "source": []
  },
  {
   "cell_type": "code",
   "execution_count": null,
   "id": "d24c572f-e301-4664-b0fd-757d7a61e8ed",
   "metadata": {},
   "outputs": [],
   "source": []
  }
 ],
 "metadata": {
  "kernelspec": {
   "display_name": "Python 3 (ipykernel)",
   "language": "python",
   "name": "python3"
  },
  "language_info": {
   "codemirror_mode": {
    "name": "ipython",
    "version": 3
   },
   "file_extension": ".py",
   "mimetype": "text/x-python",
   "name": "python",
   "nbconvert_exporter": "python",
   "pygments_lexer": "ipython3",
   "version": "3.10.8"
  }
 },
 "nbformat": 4,
 "nbformat_minor": 5
}
