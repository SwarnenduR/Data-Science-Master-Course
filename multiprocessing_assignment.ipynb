{
 "cells": [
  {
   "cell_type": "markdown",
   "id": "e75a8c10-970e-48b0-b211-a3aab75ebcc1",
   "metadata": {},
   "source": [
    "## Multiprocessing"
   ]
  },
  {
   "cell_type": "markdown",
   "id": "0dd50042-5d59-4673-81d2-088c8d9e1780",
   "metadata": {},
   "source": [
    "## Question 1"
   ]
  },
  {
   "cell_type": "markdown",
   "id": "0d498dcc-7f2b-4817-875d-63856b7069fe",
   "metadata": {},
   "source": [
    "### What is multiprocessing in python? Why is it useful?\n",
    "\n",
    "#### Multiprocessing in Python is the process of running multiple processes simultaneously within a single thread.\n",
    "#### The primary purpose of multiprocessing in Python is to improve the performance of a program by using multiple CPUs or CPU cores."
   ]
  },
  {
   "cell_type": "markdown",
   "id": "5dc1b926-fb59-4cab-a486-58b997c804a4",
   "metadata": {},
   "source": [
    "## Question 2"
   ]
  },
  {
   "cell_type": "markdown",
   "id": "b8687535-0991-43f6-b799-c89e10d0fe2c",
   "metadata": {},
   "source": [
    "### What are the differences between multiprocessing and multithreading?\n",
    "\n",
    "|multiprocessing                                     | multithreading                                                               |\n",
    "| ------------------------------------------------   |:----------------------------------------------------------------------------:|\n",
    "| CPUs are added for increasing computing power.     | Many threads are created of a single process for increasing computing power. |\n",
    "| Many processes are executed simultaneously.        | many threads of a process are executed simultaneously.                       |\n",
    "| It is classified into Symmetric and Asymmetric.    | It is is not classified in any categories                                    |\n",
    "| Process creation is a time-consuming process.      | Process creation is according to economical.                                 |\n",
    "| Every process owned a separate address space.      | A common address space is shared by all the threads.                         |"
   ]
  },
  {
   "cell_type": "markdown",
   "id": "08b3ff52-c637-40c5-a204-036511196414",
   "metadata": {},
   "source": [
    "## Question 3"
   ]
  },
  {
   "cell_type": "code",
   "execution_count": 1,
   "id": "f686e5c2-1702-406e-a410-589f1b98656b",
   "metadata": {},
   "outputs": [
    {
     "name": "stdout",
     "output_type": "stream",
     "text": [
      "This is my main program\n",
      "This is my multiprocessing program\n"
     ]
    }
   ],
   "source": [
    "import multiprocessing\n",
    "\n",
    "def test():\n",
    "    print(\"This is my multiprocessing program\")\n",
    "    \n",
    "if __name__ == \"__main__\":\n",
    "    m = multiprocessing.Process(target = test)\n",
    "    print(\"This is my main program\")\n",
    "    m.start()\n",
    "    m.join()"
   ]
  },
  {
   "cell_type": "markdown",
   "id": "dd8863eb-a0c1-4f73-9a49-011f7fa1012a",
   "metadata": {},
   "source": [
    "## Question 4"
   ]
  },
  {
   "cell_type": "markdown",
   "id": "bff9eed1-ea11-477b-b1a6-6cb185fae8a1",
   "metadata": {},
   "source": [
    "### What is a multiprocessing pool in python? Why is it used?\n",
    "\n",
    "#### Python multiprocessing Pool can be used for parallel execution of a function across multiple input values, distributing the input data across processes (data parallelism).\n",
    "#### It is used for data parallelism."
   ]
  },
  {
   "cell_type": "markdown",
   "id": "89f4fbd8-82f8-42b0-9d2d-e3f84e3f9e1d",
   "metadata": {},
   "source": [
    "## Question 5"
   ]
  },
  {
   "cell_type": "markdown",
   "id": "4d6d5edd-7eef-4c98-875f-d5b499442131",
   "metadata": {},
   "source": [
    "### How can we create a pool of worker processes in python using the multiprocessing module?\n",
    "\n",
    "#### The multiprocessing module also introduces APIs which do not have analogs in the threading module. A prime example of this is the Pool object which offers a convenient means of parallelizing the execution of a function across multiple input values, distributing the input data across processes (data parallelism). The following example demonstrates the common practice of defining such functions in a module so that child processes can successfully import that module. This basic example of data parallelism using Pool"
   ]
  },
  {
   "cell_type": "code",
   "execution_count": 2,
   "id": "278d8937-2558-4180-b425-852261ab0a59",
   "metadata": {},
   "outputs": [
    {
     "name": "stdout",
     "output_type": "stream",
     "text": [
      "[25, 64, 9, 25, 0, 49, 169]\n"
     ]
    }
   ],
   "source": [
    "## Example of pool function\n",
    "import multiprocessing\n",
    "def square(n):\n",
    "    return n**2\n",
    "\n",
    "if __name__ == \"__main__\":\n",
    "    with multiprocessing.Pool(processes = 5) as pool:\n",
    "        out = pool.map(square, [5, 8, 3, 5, 0, 7, 13])\n",
    "        print(out)"
   ]
  },
  {
   "cell_type": "markdown",
   "id": "b2f47ea4-03db-4e79-aeae-fcd42564a60c",
   "metadata": {},
   "source": [
    "## Question 6"
   ]
  },
  {
   "cell_type": "code",
   "execution_count": 3,
   "id": "fb1b8d40-4c9b-4f81-a724-541a2e1938de",
   "metadata": {},
   "outputs": [
    {
     "name": "stdout",
     "output_type": "stream",
     "text": [
      "This is my 1st process number: 1\n",
      "This is my 2nd process number: 2\n",
      "This is my 3rd process number: 3\n",
      "This is my 4th process number: 4\n"
     ]
    }
   ],
   "source": [
    "import multiprocessing\n",
    "\n",
    "def test1():\n",
    "    print(\"This is my 1st process number: 1\")\n",
    "    \n",
    "def test2():\n",
    "    print(\"This is my 2nd process number: 2\")\n",
    "    \n",
    "def test3():\n",
    "    print(\"This is my 3rd process number: 3\")\n",
    "    \n",
    "def test4():\n",
    "    print(\"This is my 4th process number: 4\")\n",
    "    \n",
    "if __name__ == \"__main__\":\n",
    "    m1 = multiprocessing.Process(target = test1)\n",
    "    m2 = multiprocessing.Process(target = test2)\n",
    "    m3 = multiprocessing.Process(target = test3)\n",
    "    m4 = multiprocessing.Process(target = test4)\n",
    "    m1.start()\n",
    "    m1.join()\n",
    "    m2.start()\n",
    "    m2.join()\n",
    "    m3.start()\n",
    "    m3.join()\n",
    "    m4.start()\n",
    "    m4.join()"
   ]
  },
  {
   "cell_type": "code",
   "execution_count": null,
   "id": "756458af-28fb-43e1-a473-03a1873becdf",
   "metadata": {},
   "outputs": [],
   "source": []
  },
  {
   "cell_type": "code",
   "execution_count": null,
   "id": "7486f9ba-e14e-4a35-999e-ca9dd723e71a",
   "metadata": {},
   "outputs": [],
   "source": []
  }
 ],
 "metadata": {
  "kernelspec": {
   "display_name": "Python 3 (ipykernel)",
   "language": "python",
   "name": "python3"
  },
  "language_info": {
   "codemirror_mode": {
    "name": "ipython",
    "version": 3
   },
   "file_extension": ".py",
   "mimetype": "text/x-python",
   "name": "python",
   "nbconvert_exporter": "python",
   "pygments_lexer": "ipython3",
   "version": "3.10.8"
  }
 },
 "nbformat": 4,
 "nbformat_minor": 5
}
