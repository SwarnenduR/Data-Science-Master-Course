{
 "cells": [
  {
   "cell_type": "markdown",
   "id": "f208e892-149d-4ccd-a0a4-ee6f9b63b498",
   "metadata": {},
   "source": [
    "## Question 1"
   ]
  },
  {
   "cell_type": "code",
   "execution_count": 1,
   "id": "72299ced-8e30-48ef-8758-5fe9e4700e25",
   "metadata": {},
   "outputs": [],
   "source": [
    "def check_password():\n",
    "    s, n, u, l = 0, 0, 0, 0\n",
    "    special_characters = \"@#$&_\"\n",
    "    numbers = \"0123456789\"\n",
    "    uppercase_letters = \"ABCDEFGHIJKLMNOPQRSTUVWXYZ\"\n",
    "    lowercase_letters = \"abcdefghijklmnopqrstuvwxyz\"\n",
    "    password = input(\"Please enter the password: \")\n",
    "    if len(password) == 10:\n",
    "        for char in password:\n",
    "            if (char in special_characters):\n",
    "                s += 1\n",
    "            if (char in numbers):\n",
    "                n += 1\n",
    "            if (char in uppercase_letters):\n",
    "                u += 1\n",
    "            if (char in lowercase_letters):\n",
    "                l += 1\n",
    "    if (s == 3 and n >= 1 and u >= 2 and l >= 2 and s+n+u+l == 10):\n",
    "        print(\"Valid Password\")\n",
    "    else:\n",
    "        print(\"Invalid password\")"
   ]
  },
  {
   "cell_type": "code",
   "execution_count": 2,
   "id": "a6db3b82-09f2-46d8-b2f1-03d8c4820b4a",
   "metadata": {},
   "outputs": [
    {
     "name": "stdin",
     "output_type": "stream",
     "text": [
      "Please enter the password:  #SWar@1_223\n"
     ]
    },
    {
     "name": "stdout",
     "output_type": "stream",
     "text": [
      "Invalid password\n"
     ]
    }
   ],
   "source": [
    "## length check\n",
    "check_password()"
   ]
  },
  {
   "cell_type": "code",
   "execution_count": 3,
   "id": "7682fa0e-fbda-473b-b519-4e12be53c4f5",
   "metadata": {},
   "outputs": [
    {
     "name": "stdin",
     "output_type": "stream",
     "text": [
      "Please enter the password:  #SWar1@234\n"
     ]
    },
    {
     "name": "stdout",
     "output_type": "stream",
     "text": [
      "Invalid password\n"
     ]
    }
   ],
   "source": [
    "## special character check\n",
    "check_password()"
   ]
  },
  {
   "cell_type": "code",
   "execution_count": 4,
   "id": "8ac25dd6-add8-410d-908d-9f3ef3439ac9",
   "metadata": {},
   "outputs": [
    {
     "name": "stdin",
     "output_type": "stream",
     "text": [
      "Please enter the password:  #SWarn@e_n\n"
     ]
    },
    {
     "name": "stdout",
     "output_type": "stream",
     "text": [
      "Invalid password\n"
     ]
    }
   ],
   "source": [
    "## number check\n",
    "check_password()"
   ]
  },
  {
   "cell_type": "code",
   "execution_count": 5,
   "id": "84d1bc1d-24d7-4f05-9cf4-761942319cfe",
   "metadata": {},
   "outputs": [
    {
     "name": "stdin",
     "output_type": "stream",
     "text": [
      "Please enter the password:  #Swar@1_23\n"
     ]
    },
    {
     "name": "stdout",
     "output_type": "stream",
     "text": [
      "Invalid password\n"
     ]
    }
   ],
   "source": [
    "## upper case check\n",
    "check_password()"
   ]
  },
  {
   "cell_type": "code",
   "execution_count": 6,
   "id": "29d6635b-cde6-44e5-bc3d-d07b59fafa3e",
   "metadata": {},
   "outputs": [
    {
     "name": "stdin",
     "output_type": "stream",
     "text": [
      "Please enter the password:  #SWaR@1_25\n"
     ]
    },
    {
     "name": "stdout",
     "output_type": "stream",
     "text": [
      "Invalid password\n"
     ]
    }
   ],
   "source": [
    "## lower case check\n",
    "check_password()"
   ]
  },
  {
   "cell_type": "code",
   "execution_count": 7,
   "id": "834f198b-ea1e-4d33-8f65-9bd6403f3074",
   "metadata": {},
   "outputs": [
    {
     "name": "stdin",
     "output_type": "stream",
     "text": [
      "Please enter the password:  SWar1@#2_3\n"
     ]
    },
    {
     "name": "stdout",
     "output_type": "stream",
     "text": [
      "Valid Password\n"
     ]
    }
   ],
   "source": [
    "## valid scenario\n",
    "check_password()"
   ]
  },
  {
   "cell_type": "code",
   "execution_count": null,
   "id": "4d4187ba-d28c-4dcb-8fc6-cdc38053c8c4",
   "metadata": {},
   "outputs": [],
   "source": []
  },
  {
   "cell_type": "markdown",
   "id": "6a312233-9e1d-4fa3-8863-51a74f94c647",
   "metadata": {},
   "source": [
    "## Question 2"
   ]
  },
  {
   "cell_type": "code",
   "execution_count": 9,
   "id": "5d86d46e-0ca4-49ea-8d1b-f249cc3ee68e",
   "metadata": {},
   "outputs": [
    {
     "name": "stdout",
     "output_type": "stream",
     "text": [
      "True\n",
      "False\n"
     ]
    }
   ],
   "source": [
    "## Check if the string starts with a particular letter\n",
    "\n",
    "str1 = \"Swarnendu\"\n",
    "print(str1.startswith(\"S\"))\n",
    "print(str1.startswith(\"R\"))"
   ]
  },
  {
   "cell_type": "code",
   "execution_count": 13,
   "id": "0a00ae4c-e69b-4696-bf0d-b0d84c1eabd0",
   "metadata": {},
   "outputs": [
    {
     "name": "stdout",
     "output_type": "stream",
     "text": [
      "False\n",
      "True\n"
     ]
    }
   ],
   "source": [
    "## Check if the string is numeric\n",
    "\n",
    "str2 = \"SWARNENDU123\"\n",
    "print(str2.isnumeric())\n",
    "\n",
    "str3 = \"1234567890\"\n",
    "print(str3.isnumeric())"
   ]
  },
  {
   "cell_type": "code",
   "execution_count": 45,
   "id": "e55c3f3b-cda8-423d-b015-cfb5811136bb",
   "metadata": {},
   "outputs": [
    {
     "data": {
      "text/plain": [
       "[('orange', 80), ('mango', 99), ('grapes', 1000)]"
      ]
     },
     "execution_count": 45,
     "metadata": {},
     "output_type": "execute_result"
    }
   ],
   "source": [
    "lst1 = [(\"mango\",99),(\"orange\",80), (\"grapes\", 1000)]\n",
    "lst1.sort(key=lambda x:x[1])\n",
    "lst1"
   ]
  },
  {
   "cell_type": "code",
   "execution_count": 23,
   "id": "cf38b088-ee2a-4233-be6a-89a32fc84dfc",
   "metadata": {},
   "outputs": [
    {
     "name": "stdout",
     "output_type": "stream",
     "text": [
      "1\n",
      "4\n",
      "9\n",
      "16\n",
      "25\n",
      "36\n",
      "49\n",
      "64\n",
      "81\n",
      "100\n"
     ]
    }
   ],
   "source": [
    "## Find the squares of numbers from 1 to 10\n",
    "\n",
    "for i in range(1, 11):\n",
    "    print(i**2)"
   ]
  },
  {
   "cell_type": "code",
   "execution_count": 27,
   "id": "5d37d1c3-0106-461a-9992-8db5df2d1bed",
   "metadata": {},
   "outputs": [
    {
     "name": "stdout",
     "output_type": "stream",
     "text": [
      "2.0\n",
      "-2.0\n"
     ]
    }
   ],
   "source": [
    "## Find the cube root of numbers from 1 to 10\n",
    "\n",
    "def cube(x):\n",
    "    if 0<=x: return x**(1./3.)\n",
    "    return -(-x)**(1./3.)\n",
    "\n",
    "print(cube(8))\n",
    "print(cube(-8))"
   ]
  },
  {
   "cell_type": "code",
   "execution_count": 41,
   "id": "7e62e5e2-79b7-4449-98a5-3a95a32e3da9",
   "metadata": {},
   "outputs": [
    {
     "name": "stdin",
     "output_type": "stream",
     "text": [
      "Enter the number:  12\n"
     ]
    },
    {
     "name": "stdout",
     "output_type": "stream",
     "text": [
      "12 is even number\n"
     ]
    }
   ],
   "source": [
    "## Check if a given number is even\n",
    "\n",
    "num = int(input(\"Enter the number: \"))\n",
    "if num % 2 == 0:\n",
    "    print(f\"{num} is even number\")\n",
    "else:\n",
    "    print(f\"{num} is odd number\")"
   ]
  },
  {
   "cell_type": "code",
   "execution_count": 42,
   "id": "91c088bb-0614-418f-82ff-da26c9dde864",
   "metadata": {},
   "outputs": [
    {
     "data": {
      "text/plain": [
       "[1, 3, 5, 7, 9]"
      ]
     },
     "execution_count": 42,
     "metadata": {},
     "output_type": "execute_result"
    }
   ],
   "source": [
    "## Filter odd numbers from the given list\n",
    "lst = [1,2,3,4,5,6,7,8,9,10]\n",
    "\n",
    "list(filter(lambda x: x % 2 != 0, lst))"
   ]
  },
  {
   "cell_type": "code",
   "execution_count": 43,
   "id": "9a443ff9-ca14-455d-a75a-d3b60e85ad7a",
   "metadata": {},
   "outputs": [
    {
     "name": "stdout",
     "output_type": "stream",
     "text": [
      "[-1, -2, -3, -4, -5] [1, 2, 3, 4, 5, 6, 0]\n"
     ]
    }
   ],
   "source": [
    "## Sort a list of integers into positive and negative integers lists.\n",
    "\n",
    "lst = [1,2,3,4,5,6,-1,-2,-3,-4,-5,0]\n",
    "neg_list = list(filter(lambda x: x<0, lst))\n",
    "pos_list = list(filter(lambda x: x>=0, lst))\n",
    "print(neg_list, pos_list)"
   ]
  },
  {
   "cell_type": "code",
   "execution_count": null,
   "id": "a0199991-94fa-48ac-b53f-71215a2259a5",
   "metadata": {},
   "outputs": [],
   "source": []
  }
 ],
 "metadata": {
  "kernelspec": {
   "display_name": "Python 3 (ipykernel)",
   "language": "python",
   "name": "python3"
  },
  "language_info": {
   "codemirror_mode": {
    "name": "ipython",
    "version": 3
   },
   "file_extension": ".py",
   "mimetype": "text/x-python",
   "name": "python",
   "nbconvert_exporter": "python",
   "pygments_lexer": "ipython3",
   "version": "3.10.8"
  }
 },
 "nbformat": 4,
 "nbformat_minor": 5
}
