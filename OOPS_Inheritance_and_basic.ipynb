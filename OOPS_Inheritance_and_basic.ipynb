{
 "cells": [
  {
   "cell_type": "markdown",
   "id": "4a7d28ee-7427-446c-8df0-157bade9bef4",
   "metadata": {},
   "source": [
    "## Question 1"
   ]
  },
  {
   "cell_type": "markdown",
   "id": "184ba49e-dc9c-4ac9-91e8-f810fec0e8e2",
   "metadata": {},
   "source": [
    "## Explain Class and Object with respect to Object-Oriented Programming.\n",
    "\n",
    "### Class is basically a user defined blueprint or prototype from which objects are created. Classes provide a means of bundling data and functionality together.\n",
    "### An Object is an instance of a Class. A class is like a blueprint while an instance is a copy of the class with actual values."
   ]
  },
  {
   "cell_type": "code",
   "execution_count": 1,
   "id": "b15d005f-5263-4584-a31a-6a7a3c68e84c",
   "metadata": {},
   "outputs": [],
   "source": [
    "## Example of class and object\n",
    "## Here I have created a class 'car' which is a blueprint from which I can create objects and defined their functionality.\n",
    "class car:\n",
    "        \n",
    "    def get_model(self):\n",
    "        return self.model\n",
    "    \n",
    "    def get_speed(self):\n",
    "        return self.speed"
   ]
  },
  {
   "cell_type": "markdown",
   "id": "87b96e3e-dbd0-4982-be3b-d07377e362e8",
   "metadata": {},
   "source": [
    "## Question 2"
   ]
  },
  {
   "cell_type": "markdown",
   "id": "20f29685-fc79-4d55-9faf-790b6d9e62e9",
   "metadata": {},
   "source": [
    "## Name the four pillars of OOPs.\n",
    "\n",
    "### These four pillars are Inheritance, Polymorphism, Encapsulation and Abstraction."
   ]
  },
  {
   "cell_type": "markdown",
   "id": "47660eee-77eb-4847-a8b2-dd817c2ff5ff",
   "metadata": {},
   "source": [
    "## Question 3"
   ]
  },
  {
   "cell_type": "markdown",
   "id": "02cd39d9-673b-4bca-b5a6-37b54e56e330",
   "metadata": {},
   "source": [
    "## Explain why the __init__() function is used.\n",
    "\n",
    "### All classes have a function called __init__(), which is always executed when the class is being initiated. It is also called as a constructor which is used to assign values to object properties, or other operations that are necessary to do when the object is being created.\n"
   ]
  },
  {
   "cell_type": "code",
   "execution_count": 2,
   "id": "b04dea5e-9e1a-4f8a-b189-75d7c77e43eb",
   "metadata": {},
   "outputs": [],
   "source": [
    "## Example - Here car is class which has __init__ method/constructor used to assign year, make, model and speed to the objects set_speed and get_speed object. \n",
    "class car:\n",
    "    def __init__(self, year, make, model, speed):\n",
    "        self.year = year\n",
    "        self.make = make\n",
    "        self.model = model\n",
    "        self.speed = speed\n",
    "        \n",
    "    def set_speed(self, speed):\n",
    "        self.speed = 0 if speed < 0 else speed\n",
    "    \n",
    "    def get_speed(self):\n",
    "        return self.speed"
   ]
  },
  {
   "cell_type": "markdown",
   "id": "933aa924-ca9e-4ac1-bfdd-12425fc5deb6",
   "metadata": {},
   "source": [
    "## Question 4"
   ]
  },
  {
   "cell_type": "markdown",
   "id": "e9c033f8-f700-4077-b236-9bac1e526bf1",
   "metadata": {},
   "source": [
    "## Why self is used in OOPs?\n",
    "\n",
    "### self represents the instance of the class. By using the “self” we can access the attributes and methods of the class in python. It binds the attributes with the given arguments."
   ]
  },
  {
   "cell_type": "markdown",
   "id": "2057d169-dd64-4b60-8b8f-fa5e4914969e",
   "metadata": {},
   "source": [
    "## Question 5"
   ]
  },
  {
   "cell_type": "markdown",
   "id": "ee4b80cb-1f0e-453e-bc4c-0720a44db282",
   "metadata": {},
   "source": [
    "## What is inheritance?\n",
    "\n",
    "### Inheritance allows us to define a class that inherits all the methods and properties from another class. Parent class is the class being inherited from, also called base class. Child class is the class that inherits from another class, also called derived class. There are various types of inheritance possible. Here I have listed three main types like Single, Multiple and Multilevel Inheritance."
   ]
  },
  {
   "cell_type": "code",
   "execution_count": 3,
   "id": "86ffbe11-cea9-4ce1-b93e-cd446c7f2f50",
   "metadata": {},
   "outputs": [
    {
     "name": "stdout",
     "output_type": "stream",
     "text": [
      "This is my parent class\n"
     ]
    }
   ],
   "source": [
    "## Single Inheritance\n",
    "\n",
    "## Single inheritance enables a derived class to inherit properties from a single parent class.\n",
    "\n",
    "class parent:\n",
    "    \n",
    "    def test_parent(self):\n",
    "        print(\"This is my parent class\")\n",
    "        \n",
    "class child(parent):\n",
    "    pass\n",
    "\n",
    "child_obj = child()\n",
    "child_obj.test_parent()"
   ]
  },
  {
   "cell_type": "code",
   "execution_count": 4,
   "id": "30104b0e-8ab1-4160-9886-8a5d29e1e284",
   "metadata": {},
   "outputs": [
    {
     "name": "stdout",
     "output_type": "stream",
     "text": [
      "This is my class1\n",
      "This is my class2\n"
     ]
    }
   ],
   "source": [
    "## Multiple Inheritance\n",
    "\n",
    "## When a class can be derived from more than one base class this type of inheritance is called multiple inheritances.\n",
    "\n",
    "class class1:\n",
    "    \n",
    "    def test_class1(self):\n",
    "        print(\"This is my class1\")\n",
    "        \n",
    "class class2:\n",
    "    \n",
    "    def test_class2(self):\n",
    "        print(\"This is my class2\")\n",
    "        \n",
    "class class3(class1, class2):\n",
    "    pass\n",
    "\n",
    "class3_obj = class3()\n",
    "class3_obj.test_class1()\n",
    "class3_obj.test_class2()"
   ]
  },
  {
   "cell_type": "code",
   "execution_count": 5,
   "id": "fbf5e7d4-8be9-4161-b78b-54ea49bddb07",
   "metadata": {},
   "outputs": [
    {
     "name": "stdout",
     "output_type": "stream",
     "text": [
      "This is my class1\n",
      "This is my class2\n",
      "This is my class3\n"
     ]
    }
   ],
   "source": [
    "## Mutilevel Inheritance\n",
    "\n",
    "## In multilevel inheritance, features of the base class and the derived class are further inherited into the new derived class.\n",
    "\n",
    "class class1:\n",
    "    \n",
    "    def test_class1(self):\n",
    "        print(\"This is my class1\")\n",
    "        \n",
    "class class2(class1):\n",
    "    \n",
    "    def test_class2(self):\n",
    "        print(\"This is my class2\")\n",
    "        \n",
    "class class3(class2):\n",
    "    \n",
    "    def test_class3(self):\n",
    "        print(\"This is my class3\")\n",
    "        \n",
    "class3_obj = class3()\n",
    "\n",
    "class3_obj.test_class1()\n",
    "class3_obj.test_class2()\n",
    "class3_obj.test_class3()"
   ]
  },
  {
   "cell_type": "code",
   "execution_count": null,
   "id": "33c6f08d-f8d6-47cf-b339-c9c3b607a605",
   "metadata": {},
   "outputs": [],
   "source": []
  },
  {
   "cell_type": "code",
   "execution_count": null,
   "id": "224191c1-7aae-46fc-b230-679af27c0836",
   "metadata": {},
   "outputs": [],
   "source": []
  }
 ],
 "metadata": {
  "kernelspec": {
   "display_name": "Python 3 (ipykernel)",
   "language": "python",
   "name": "python3"
  },
  "language_info": {
   "codemirror_mode": {
    "name": "ipython",
    "version": 3
   },
   "file_extension": ".py",
   "mimetype": "text/x-python",
   "name": "python",
   "nbconvert_exporter": "python",
   "pygments_lexer": "ipython3",
   "version": "3.10.8"
  }
 },
 "nbformat": 4,
 "nbformat_minor": 5
}
