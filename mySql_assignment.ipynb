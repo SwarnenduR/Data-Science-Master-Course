{
 "cells": [
  {
   "cell_type": "markdown",
   "id": "5c7c48de-03c8-42c2-a2cf-9bca1a6c42db",
   "metadata": {},
   "source": [
    "## MySql"
   ]
  },
  {
   "cell_type": "markdown",
   "id": "2ef7b54d-8809-40d4-b8ef-5a7203cf3309",
   "metadata": {},
   "source": [
    "## Question 1"
   ]
  },
  {
   "cell_type": "markdown",
   "id": "521c51f1-f857-4e70-838e-0a241aca0030",
   "metadata": {},
   "source": [
    "### What is a database?\n",
    "\n",
    "#### In computing, a database is an organized collection of data stored and accessed electronically. Small databases can be stored on a file system, while large databases are hosted on computer clusters or cloud storage.\n",
    "\n",
    "### Differentiate between SQL and NoSQL databases.\n",
    "\n",
    "|            SQL                                                   |          NoSQL                                                                      |\n",
    "| ------------------------------------------------------------     |:-----------------------------------------------------------------------------------:|\n",
    "| RELATIONAL DATABASE MANAGEMENT SYSTEM (RDBMS).                   | Non-relational or distributed database system.                                      |\n",
    "| These databases have fixed or static or predefined schema.       | They have dynamic schema.                                                           |\n",
    "| These databases are not suited for hierarchical data storage.    | These databases are best suited for hierarchical data storage.                      |\n",
    "| These databases are best suited for complex queries.             | These databases are not so good for complex queries.                                |\n",
    "| Vertically Scalable, Follows ACID property.                      | Horizontally scalable, Follows CAP(consistency, availability, partition tolerance). |\n",
    "| Examples: MySQL, PostgreSQL, Oracle, MS-SQL Server, etc.         | Examples: MongoDB, GraphQL, HBase, Neo4j, Cassandra, etc.                           |"
   ]
  },
  {
   "cell_type": "markdown",
   "id": "07eac3e8-a045-4ccc-acf5-973e03fa7901",
   "metadata": {},
   "source": [
    "## Question 2"
   ]
  },
  {
   "cell_type": "markdown",
   "id": "34c31698-64a2-4719-81cc-3cc74095238e",
   "metadata": {},
   "source": [
    "### What is DDL?\n",
    "\n",
    "#### Data definition language (DDL) Commands in Structured Query Language are used to create and modify the schema of the database and its objects. The syntax of DDL commands is predefined for describing the data. The commands of Data Definition Language deal with how the data should exist in the database.\n",
    "\n",
    "### CREATE Command\n",
    "#### CREATE is a DDL command used to create databases, tables, triggers and other database objects.\n",
    "#### This example describes how to create a new database using the CREATE DDL command: Create Database Books;\n",
    "\n",
    "### DROP Command\n",
    "#### DROP is a DDL command used to delete/remove the database objects from the SQL database. We can easily remove the entire table, view, or index from the database using this DDL command.\n",
    "####  This example describes how to remove a database from the SQL database: DROP DATABASE Books;\n",
    "\n",
    "### ALTER Command\n",
    "#### ALTER is a DDL command which changes or modifies the existing structure of the database, and it also changes the schema of database objects. We can also add and drop constraints of the table using the ALTER command.\n",
    "#### This example shows how to add a new field to the existing table: ALTER TABLE name_of_table ADD column_name column_definition;\n",
    "\n",
    "### TRUNCATE Command\n",
    "#### TRUNCATE is another DDL command which deletes or removes all the records from the table. This command also removes the space allocated for storing the table records.\n",
    "#### TRUNCATE TABLE Table_Name;"
   ]
  },
  {
   "cell_type": "markdown",
   "id": "a1f13b13-8740-4b0a-9d99-f13b25aa0057",
   "metadata": {},
   "source": [
    "## Question 3"
   ]
  },
  {
   "cell_type": "markdown",
   "id": "16bdc889-2b7f-4cf4-8b7d-7e35702d54f3",
   "metadata": {},
   "source": [
    "### What is DML?\n",
    "#### The structured query language (SQL) commands deal with the manipulation of data present in the database that belongs to the DML or Data Manipulation Language.\n",
    "\n",
    "### INSERT\n",
    "#### Insert command is used to insert data into a table.\n",
    "#### Example: Insert into Employee(Emp_id, Emp_name) values (001, “ Swarnendu”);\n",
    "\n",
    "### UPDATE\n",
    "#### Update command is used to update existing data within a table.\n",
    "#### Example: UPDATE Employee SET Emp_name= Ram WHERE Emp_id= 001;\n",
    "\n",
    "### DELETE\n",
    "#### Delete command is used to delete records from a database table.\n",
    "#### Example: DELETE from Employee WHERE Emp_id=001;"
   ]
  },
  {
   "cell_type": "markdown",
   "id": "85496c04-bfd4-4abc-a72d-fcd737819ade",
   "metadata": {},
   "source": [
    "## Question 4"
   ]
  },
  {
   "cell_type": "markdown",
   "id": "9eee7a53-93ec-463e-bd62-1028876116c7",
   "metadata": {},
   "source": [
    "### What is DQL?\n",
    "#### Data Query Language(DQL) is used to fetch the data from the database.\n",
    "#### SELECT: This is the same as the projection operation of relational algebra. It is used to select the attribute based on the condition described by WHERE clause.\n",
    "#### Example: SELECT emp_name FROM employee WHERE age > 20; (table nae is employee, column names are emp_name, age and followed by the condition)"
   ]
  },
  {
   "cell_type": "markdown",
   "id": "d84f9dc5-bfbc-4595-b1f8-1ddee05608f1",
   "metadata": {},
   "source": [
    "## Question 5"
   ]
  },
  {
   "cell_type": "markdown",
   "id": "3aac919b-6e4e-4abf-9ae1-5ea3c19900eb",
   "metadata": {},
   "source": [
    "### Explain Primary Key and Foreign Key.\n",
    "#### The primary key is a unique or non-null key that uniquely identifies every record in a table or relation. Each database needs a unique identifier for every row of a table, and the primary key plays a vital role in identifying rows in the table uniquely. The primary key column can't store duplicate values. It is also called a minimal super key; therefore, we cannot specify more than one primary key in any relationship.\n",
    "#### For example, we have a table named customer with attributes such as ID, Name, and City. Only the ID column can never contain duplicate and NULL values because each customer has a unique identification number. This feature helps to identify each record in the database uniquely. Hence, we can make the ID attribute a primary key.\n",
    "\n",
    "#### The foreign key is a group of one or more columns in a database to uniquely identify another database record in some other table to maintain the referential integrity. It is also known as the referencing key that establishes a relationship between two different tables in a database. A foreign key always matches the primary key column in another table. It means a foreign key column in one table refers to the primary key column of another table. A foreign key is beneficial in relational database normalization, especially when we need to access records from other tables. A foreign key creates a parent-child relationship with the tables where the parent table holds the initial column values, and the child table references the parent column values. We can achieve this relationship only when the foreign key constraint is found on the child table.\n",
    "#### For example, we have a table named contact with attributes such as ID, Customer_Id, Customer_Info, and Type. Here we can make the Customer_Id column a foreign key."
   ]
  },
  {
   "cell_type": "markdown",
   "id": "77c940a8-a070-4cca-965d-02761a4f074d",
   "metadata": {},
   "source": [
    "## Question 6"
   ]
  },
  {
   "cell_type": "markdown",
   "id": "001f98a8-05bf-4366-8c63-3349c7299076",
   "metadata": {},
   "source": [
    "#### Write a python code to connect MySQL to python. Explain the cursor() and execute() method.\n",
    "\n",
    "``` import mysql.connector\n",
    "mydb = mysql.connector.connect(\n",
    "  host=\"localhost\",\n",
    "  user=\"abc\",\n",
    "  password=\"password\"\n",
    ")\n",
    "mycursor = mydb.cursor()\n",
    "mycursor.execute(\"CREATE DATABASE if not exists test\")\n",
    "mycursor.execute(\"CREATE TABLE if not exists test.test_table (c1 INT, c2 VARCHAR(50), c3 INT, c4 FLOAT, c5 VARCHAR(40));\")\n",
    "mydb.close()\n",
    "```"
   ]
  },
  {
   "cell_type": "markdown",
   "id": "1460371a-0a2f-470e-9521-4e26d6fcf92f",
   "metadata": {},
   "source": [
    "### cursor(): The cursor of mysql-connector-python is used to execute statements to communicate with the MySQL database. Using the methods of it we can execute SQL statements, fetch data from the result sets, call procedures. We can create Cursor object using the cursor() method of the Connection object/class.\n",
    "### execute(): This method accepts a MySQL query as a parameter and executes the given query. "
   ]
  },
  {
   "cell_type": "markdown",
   "id": "5b9b8757-4203-4d04-9cdb-aa76b64dd1ec",
   "metadata": {},
   "source": [
    "## Question 7"
   ]
  },
  {
   "cell_type": "markdown",
   "id": "d3e976f5-ad7f-4a51-843a-45fc07e5241e",
   "metadata": {},
   "source": [
    "### Give the order of execution of SQL clauses in an SQL query.\n",
    "\n",
    "#### The SQL order of execution defines the order in which the clauses of a query are evaluated. Some of the most common query challenges people run into could be easily avoided with a clearer understanding of the SQL order of execution, sometimes called the SQL order of operations. Understanding SQL query order can help you diagnose why a query won’t run, and even more frequently will help you optimize your queries to run faster.\n",
    "\n",
    "|   ORDER       |   CLAUSE        |       FUNCTION                                                                      \n",
    "| ------------- |:----------------|-----------------------------------------:|\n",
    "| 1             | from            | Choose and join tables to get the data.  |\n",
    "| 2             | where           | Filters the base data.                   |\n",
    "| 3             | group by        | Aggregates the base data.                |\n",
    "| 4             | having          | Filters the aggregated data.             |\n",
    "| 5             | select          | Returns the final data.                  |\n",
    "| 6             | order by        | Sorts the final data.                    |\n",
    "| 7             | limit           | Limits the returned data to a row count. | "
   ]
  },
  {
   "cell_type": "code",
   "execution_count": null,
   "id": "e8e23206-1667-4e3f-8571-7621530e6ba7",
   "metadata": {},
   "outputs": [],
   "source": []
  },
  {
   "cell_type": "code",
   "execution_count": null,
   "id": "ef96aabb-20d6-4d5c-9ffd-274efac0f720",
   "metadata": {},
   "outputs": [],
   "source": []
  }
 ],
 "metadata": {
  "kernelspec": {
   "display_name": "Python 3 (ipykernel)",
   "language": "python",
   "name": "python3"
  },
  "language_info": {
   "codemirror_mode": {
    "name": "ipython",
    "version": 3
   },
   "file_extension": ".py",
   "mimetype": "text/x-python",
   "name": "python",
   "nbconvert_exporter": "python",
   "pygments_lexer": "ipython3",
   "version": "3.10.8"
  }
 },
 "nbformat": 4,
 "nbformat_minor": 5
}
