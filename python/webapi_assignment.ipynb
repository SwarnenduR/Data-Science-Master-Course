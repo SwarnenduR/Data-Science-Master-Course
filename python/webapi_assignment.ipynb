{
 "cells": [
  {
   "cell_type": "markdown",
   "id": "7c5bac79-0bbd-4cd8-a18a-446c4137bb7f",
   "metadata": {},
   "source": [
    "## Web API"
   ]
  },
  {
   "cell_type": "markdown",
   "id": "4474b566-1a93-4135-82ee-c6f9c335d190",
   "metadata": {},
   "source": [
    "## Question 1"
   ]
  },
  {
   "cell_type": "markdown",
   "id": "1bd3b0da-dcde-492d-afc7-002f67dadfe7",
   "metadata": {},
   "source": [
    "### What is an API? Give an example, where an API is used in real life.\n",
    "\n",
    "#### Application Programming Interface (API) is a software interface that allows two applications to interact with each other without any user intervention. API is a collection of software functions and procedures. In simple terms, API means a software code that can be accessed or executed. API is defined as a code that helps two different software’s to communicate and exchange data with each other. It offers products or services to communicate with other products and services without having to know how they are implemented.\n",
    "#### Google Maps is a popular app on billions of mobile devices around the world, but we are probably aware of at least a few dozen other apps that use Google Maps APIs to pull customized location data, send directions, and analyze all types of location data that can help businesses provide better services and establish streamlined connections with suppliers, customers, delivery services, and more."
   ]
  },
  {
   "cell_type": "markdown",
   "id": "45be095f-ccd1-4dae-bda5-956784b6e6a8",
   "metadata": {},
   "source": [
    "## Question 2"
   ]
  },
  {
   "cell_type": "markdown",
   "id": "bc8dd9fa-bd02-4925-ba2b-1d7142380a02",
   "metadata": {},
   "source": [
    "### Give advantages and disadvantages of using API.\n",
    "\n",
    "#### API advantages:\n",
    "#### Can provide a way to access functionality or data that is not otherwise readily available or accessible.\n",
    "#### Can provide a way to automate tasks.\n",
    "#### Can help to improve communication between disparate systems.\n",
    "\n",
    "#### API disadvantages:\n",
    "#### Can be difficult to use and understand.\n",
    "#### Cannot be guaranteed to be stable or backwards compatible.\n",
    "#### May require a certain level of technical expertise in order to use them effectively."
   ]
  },
  {
   "cell_type": "markdown",
   "id": "54dab40c-3571-4d8c-9284-476d14b3de79",
   "metadata": {},
   "source": [
    "## Question 3"
   ]
  },
  {
   "cell_type": "markdown",
   "id": "6703a5d8-f7b1-4d1b-bb0f-118943180f8d",
   "metadata": {},
   "source": [
    "### What is a Web API?\n",
    "\n",
    "#### A Web API stands for Application Programming Interface. It is a software application that allows two different applications or machines to interact with each other without any user interference. The API contains a complete set of rules and specifications used when interacting with any web application.\n",
    "\n",
    "### Differentiate between API and Web API.\n",
    "#### Both APIs and web APIs are technologies that enable the transfer of data between separate software applications. API is an interface that exposes an application's data to outside software, whereas web API are one type of API with stricter requirements."
   ]
  },
  {
   "cell_type": "markdown",
   "id": "c903d361-5bec-40c1-9bbb-a704ef86d5b9",
   "metadata": {},
   "source": [
    "## Question 4"
   ]
  },
  {
   "cell_type": "markdown",
   "id": "c1e61937-eb20-4f37-9989-17758bbc0e3a",
   "metadata": {},
   "source": [
    "### Explain REST Architecture.\n",
    "\n",
    "#### REST stands for REpresentational State Transfer and API stands for Application Program Interface. REST is a software architectural style that defines the set of rules to be used for creating web services. Web services which follow the REST architectural style are known as RESTful web services. It allows requesting systems to access and manipulate web resources by using a uniform and predefined set of rules. Interaction in REST based systems happen through Internet’s Hypertext Transfer Protocol (HTTP). Architectural Constraints of RESTful API: There are five architectural constraints which makes any web service\n",
    "1. Uniform Interface\n",
    "2. Stateless\n",
    "3. Cacheable\n",
    "4. Client-Server\n",
    "5. Layered System\n",
    "\n",
    "### SOAP Architecture\n",
    "#### SOAP is an acronym for Simple Object Access Protocol. It is an XML-based messaging protocol for exchanging information among computers. SOAP is an application of the XML specification.\n",
    "#### Some of the architectural points \n",
    "1. SOAP is a communication protocol designed to communicate via Internet and it can extend HTTP for XML messaging.\n",
    "2. SOAP provides data transport for Web services. It can exchange complete documents or call a remote procedure.\n",
    "3. SOAP is the XML way of defining what information is sent and how, it is platform and language independent. It can be used for broadcasting a message."
   ]
  },
  {
   "cell_type": "markdown",
   "id": "188c2a05-05cc-4447-b224-5a63f4d90288",
   "metadata": {},
   "source": [
    "## Question 5"
   ]
  },
  {
   "cell_type": "markdown",
   "id": "02a08621-fd26-4d8e-ab99-633c777330f3",
   "metadata": {},
   "source": [
    "### Differentiate between REST and SOAP.\n",
    "\n",
    "|            SOAP                                                  |          REST                                                                                        |\n",
    "| ------------------------------------------------------------     |:----------------------------------------------------------------------------------------------------:|\n",
    "| SOAP is a protocol.                                              | REST is an architectural style.                                                                      |\n",
    "| SOAP stands for Simple Object Access Protocol.                   | REST stands for Representational State Transfer.                                                     |\n",
    "| SOAP can't use REST because it is a protocol.                    | REST can use SOAP web services because it is a concept and can use any protocol like HTTP, SOAP      |\n",
    "| SOAP uses services interfaces to expose the business logic.      | REST uses URI to expose business logic.                                                              |\n",
    "| SOAP defines standards to be strictly followed.                  | REST does not define too much standards like SOAP.                                                   |\n",
    "| SOAP requires more bandwidth and resource than REST.             | REST requires less bandwidth and resource than SOAP.                                                 |\n",
    "| SOAP defines its own security.                                   | RESTful web services inherits security measures from the underlying transport.                       |\n",
    "| SOAP permits XML data format only.                               | REST permits different data format such as Plain text, HTML, XML, JSON etc.                          |\n",
    "| SOAP is less preferred than REST.                                | REST more preferred than SOAP.                                                                       |\n"
   ]
  },
  {
   "cell_type": "code",
   "execution_count": null,
   "id": "a9a7d9bf-f0e2-4e50-9d25-a0eba4c0f342",
   "metadata": {},
   "outputs": [],
   "source": []
  },
  {
   "cell_type": "code",
   "execution_count": null,
   "id": "7bee46f0-c61a-44f7-84d2-f69d95d3265d",
   "metadata": {},
   "outputs": [],
   "source": []
  }
 ],
 "metadata": {
  "kernelspec": {
   "display_name": "Python 3 (ipykernel)",
   "language": "python",
   "name": "python3"
  },
  "language_info": {
   "codemirror_mode": {
    "name": "ipython",
    "version": 3
   },
   "file_extension": ".py",
   "mimetype": "text/x-python",
   "name": "python",
   "nbconvert_exporter": "python",
   "pygments_lexer": "ipython3",
   "version": "3.10.8"
  }
 },
 "nbformat": 4,
 "nbformat_minor": 5
}
