{
 "cells": [
  {
   "cell_type": "code",
   "execution_count": 1,
   "id": "fd3128ed",
   "metadata": {},
   "outputs": [],
   "source": [
    "## generator function\n",
    "## find the fibonacci series\n",
    "\n",
    "def test_fib(n):\n",
    "    a, b = 0, 1\n",
    "    for i in range(n):\n",
    "        yield a\n",
    "        a, b = b, a+b"
   ]
  },
  {
   "cell_type": "code",
   "execution_count": 2,
   "id": "daea9f07",
   "metadata": {},
   "outputs": [
    {
     "data": {
      "text/plain": [
       "<generator object test_fib at 0x103f80f40>"
      ]
     },
     "execution_count": 2,
     "metadata": {},
     "output_type": "execute_result"
    }
   ],
   "source": [
    "test_fib(10)"
   ]
  },
  {
   "cell_type": "code",
   "execution_count": 3,
   "id": "988042f3",
   "metadata": {},
   "outputs": [
    {
     "name": "stdout",
     "output_type": "stream",
     "text": [
      "0\n",
      "1\n",
      "1\n",
      "2\n",
      "3\n",
      "5\n",
      "8\n",
      "13\n",
      "21\n",
      "34\n"
     ]
    }
   ],
   "source": [
    "for i in test_fib(10):\n",
    "    print(i)"
   ]
  },
  {
   "cell_type": "code",
   "execution_count": 4,
   "id": "87c17934",
   "metadata": {},
   "outputs": [],
   "source": [
    "c_to_f = lambda c: (9/5)*c + 32 "
   ]
  },
  {
   "cell_type": "code",
   "execution_count": 5,
   "id": "bf18149d",
   "metadata": {},
   "outputs": [
    {
     "data": {
      "text/plain": [
       "89.6"
      ]
     },
     "execution_count": 5,
     "metadata": {},
     "output_type": "execute_result"
    }
   ],
   "source": [
    "c_to_f(32)"
   ]
  },
  {
   "cell_type": "code",
   "execution_count": 6,
   "id": "f426c4a2",
   "metadata": {},
   "outputs": [
    {
     "data": {
      "text/plain": [
       "<map at 0x103fa4c40>"
      ]
     },
     "execution_count": 6,
     "metadata": {},
     "output_type": "execute_result"
    }
   ],
   "source": [
    "l = [1, 2, 3, 4, 5, 6, 7, 8, 9]\n",
    "\n",
    "def sq(x):\n",
    "    return x**2\n",
    "\n",
    "map(sq, l)"
   ]
  },
  {
   "cell_type": "code",
   "execution_count": 7,
   "id": "0a4aefc4",
   "metadata": {},
   "outputs": [
    {
     "data": {
      "text/plain": [
       "[1, 4, 9, 16, 25, 36, 49, 64, 81]"
      ]
     },
     "execution_count": 7,
     "metadata": {},
     "output_type": "execute_result"
    }
   ],
   "source": [
    "list(map(sq, l))"
   ]
  },
  {
   "cell_type": "code",
   "execution_count": 8,
   "id": "80e97ed2",
   "metadata": {},
   "outputs": [
    {
     "data": {
      "text/plain": [
       "[1, 4, 9, 16, 25, 36, 49, 64, 81]"
      ]
     },
     "execution_count": 8,
     "metadata": {},
     "output_type": "execute_result"
    }
   ],
   "source": [
    "list(map(lambda x: x**2, l))"
   ]
  },
  {
   "cell_type": "code",
   "execution_count": 9,
   "id": "490d27df",
   "metadata": {},
   "outputs": [
    {
     "data": {
      "text/plain": [
       "45"
      ]
     },
     "execution_count": 9,
     "metadata": {},
     "output_type": "execute_result"
    }
   ],
   "source": [
    "from functools import reduce\n",
    "\n",
    "reduce(lambda x, y: x+y, l)"
   ]
  },
  {
   "cell_type": "code",
   "execution_count": 10,
   "id": "f023c293",
   "metadata": {},
   "outputs": [
    {
     "data": {
      "text/plain": [
       "[2, 4, 6, 8]"
      ]
     },
     "execution_count": 10,
     "metadata": {},
     "output_type": "execute_result"
    }
   ],
   "source": [
    "list(filter(lambda x: x%2 == 0, l))"
   ]
  },
  {
   "cell_type": "code",
   "execution_count": 11,
   "id": "4dff3faa",
   "metadata": {},
   "outputs": [
    {
     "data": {
      "text/plain": [
       "[1, 3, 5, 7, 9]"
      ]
     },
     "execution_count": 11,
     "metadata": {},
     "output_type": "execute_result"
    }
   ],
   "source": [
    "list(filter(lambda x: x%2 != 0, l))"
   ]
  },
  {
   "cell_type": "code",
   "execution_count": 12,
   "id": "0f0daf41",
   "metadata": {},
   "outputs": [],
   "source": [
    "## OOPS"
   ]
  },
  {
   "cell_type": "code",
   "execution_count": 13,
   "id": "9ed6555c",
   "metadata": {},
   "outputs": [],
   "source": [
    "class cars:\n",
    "    \n",
    "    def __init__(self, company, car_type, color, price):\n",
    "        self.company = company\n",
    "        self.car_type = car_type\n",
    "        self.color = color\n",
    "        self.price = price\n",
    "        \n",
    "    def car_details(self):\n",
    "        return self.company, self.car_type, self.color, self.price"
   ]
  },
  {
   "cell_type": "code",
   "execution_count": 14,
   "id": "175af2e8",
   "metadata": {},
   "outputs": [],
   "source": [
    "my_car = cars(\"Hyundai\", \"Sedan\", \"Aqua-Teal\", \"10L\")"
   ]
  },
  {
   "cell_type": "code",
   "execution_count": 15,
   "id": "447f748f",
   "metadata": {},
   "outputs": [
    {
     "data": {
      "text/plain": [
       "'10L'"
      ]
     },
     "execution_count": 15,
     "metadata": {},
     "output_type": "execute_result"
    }
   ],
   "source": [
    "my_car.price"
   ]
  },
  {
   "cell_type": "code",
   "execution_count": 16,
   "id": "eabb6870",
   "metadata": {},
   "outputs": [
    {
     "data": {
      "text/plain": [
       "'Hyundai'"
      ]
     },
     "execution_count": 16,
     "metadata": {},
     "output_type": "execute_result"
    }
   ],
   "source": [
    "my_car.company"
   ]
  },
  {
   "cell_type": "code",
   "execution_count": 17,
   "id": "2e300619",
   "metadata": {},
   "outputs": [
    {
     "data": {
      "text/plain": [
       "('Hyundai', 'Sedan', 'Aqua-Teal', '10L')"
      ]
     },
     "execution_count": 17,
     "metadata": {},
     "output_type": "execute_result"
    }
   ],
   "source": [
    "my_car.car_details()"
   ]
  },
  {
   "cell_type": "code",
   "execution_count": 18,
   "id": "8aea7bd1",
   "metadata": {},
   "outputs": [],
   "source": [
    "## Polymorphism\n",
    "\n",
    "class random:\n",
    "    def jog(self, x, y):\n",
    "        return x+y"
   ]
  },
  {
   "cell_type": "code",
   "execution_count": 19,
   "id": "5ef9f598",
   "metadata": {},
   "outputs": [
    {
     "data": {
      "text/plain": [
       "30"
      ]
     },
     "execution_count": 19,
     "metadata": {},
     "output_type": "execute_result"
    }
   ],
   "source": [
    "int_class = random()\n",
    "int_class.jog(10,20)"
   ]
  },
  {
   "cell_type": "code",
   "execution_count": 20,
   "id": "fb82f3b7",
   "metadata": {},
   "outputs": [
    {
     "data": {
      "text/plain": [
       "'Swarnendu Ruidas'"
      ]
     },
     "execution_count": 20,
     "metadata": {},
     "output_type": "execute_result"
    }
   ],
   "source": [
    "str_class = random()\n",
    "str_class.jog(\"Swarnendu\", \" Ruidas\")"
   ]
  },
  {
   "cell_type": "code",
   "execution_count": 21,
   "id": "e0b4d351",
   "metadata": {},
   "outputs": [
    {
     "data": {
      "text/plain": [
       "[1, 2, 3, 4, 5, 6]"
      ]
     },
     "execution_count": 21,
     "metadata": {},
     "output_type": "execute_result"
    }
   ],
   "source": [
    "list_class = random()\n",
    "list_class.jog([1, 2, 3], [4, 5, 6])"
   ]
  },
  {
   "cell_type": "code",
   "execution_count": 22,
   "id": "4bb5b755",
   "metadata": {},
   "outputs": [],
   "source": [
    "## Encapsulation"
   ]
  },
  {
   "cell_type": "code",
   "execution_count": 23,
   "id": "479cf9ce",
   "metadata": {},
   "outputs": [],
   "source": [
    "class bank:\n",
    "    def __init__(self, balance):\n",
    "        self.__balance = balance\n",
    "    def deposit(self, amount):\n",
    "        self.__balance = self.__balance + amount\n",
    "    def withdraw(self, amount):\n",
    "        if self.__balance >= amount:\n",
    "            self.__balance = self.__balance - amount\n",
    "        else:\n",
    "            print(\"Insufficient amount\")\n",
    "            \n",
    "    def get_balance(self):\n",
    "        return self.__balance"
   ]
  },
  {
   "cell_type": "code",
   "execution_count": 24,
   "id": "9d8c7d26",
   "metadata": {},
   "outputs": [],
   "source": [
    "sbi_bank = bank(200)"
   ]
  },
  {
   "cell_type": "code",
   "execution_count": 25,
   "id": "441827c5",
   "metadata": {},
   "outputs": [],
   "source": [
    "sbi_bank.deposit(100)"
   ]
  },
  {
   "cell_type": "code",
   "execution_count": 26,
   "id": "e06f1ae7",
   "metadata": {},
   "outputs": [],
   "source": [
    "sbi_bank.withdraw(150)"
   ]
  },
  {
   "cell_type": "code",
   "execution_count": 27,
   "id": "b524f122",
   "metadata": {},
   "outputs": [
    {
     "data": {
      "text/plain": [
       "150"
      ]
     },
     "execution_count": 27,
     "metadata": {},
     "output_type": "execute_result"
    }
   ],
   "source": [
    "sbi_bank._bank__balance"
   ]
  },
  {
   "cell_type": "code",
   "execution_count": 28,
   "id": "be228e6c",
   "metadata": {},
   "outputs": [
    {
     "data": {
      "text/plain": [
       "150"
      ]
     },
     "execution_count": 28,
     "metadata": {},
     "output_type": "execute_result"
    }
   ],
   "source": [
    "sbi_bank.get_balance()"
   ]
  },
  {
   "cell_type": "code",
   "execution_count": 29,
   "id": "431fda1c",
   "metadata": {},
   "outputs": [],
   "source": [
    "## Inheritance"
   ]
  },
  {
   "cell_type": "code",
   "execution_count": 30,
   "id": "e107c658",
   "metadata": {},
   "outputs": [],
   "source": [
    "class class1:\n",
    "    def method1(self):\n",
    "        print(\"This is parent class method 1\")\n",
    "    def method2(self):\n",
    "        print(\"This is parent class method 2\")"
   ]
  },
  {
   "cell_type": "code",
   "execution_count": 31,
   "id": "6a8a1e70",
   "metadata": {},
   "outputs": [],
   "source": [
    "class class2(class1):\n",
    "    def method3(self):\n",
    "        print(\"This is child class method 3 of class1\")\n",
    "    def method4(self):\n",
    "        print(\"This is child class method 4 of class1\")"
   ]
  },
  {
   "cell_type": "code",
   "execution_count": 32,
   "id": "2f246d37",
   "metadata": {},
   "outputs": [],
   "source": [
    "class class3(class2):\n",
    "    def method5(self):\n",
    "        print(\"This is child class method 5 of class2\")\n",
    "    def method6(self):\n",
    "        print(\"This is child class method 6 of class2\")"
   ]
  },
  {
   "cell_type": "code",
   "execution_count": 33,
   "id": "1e823d8d",
   "metadata": {},
   "outputs": [],
   "source": [
    "obj_class3 = class3()"
   ]
  },
  {
   "cell_type": "code",
   "execution_count": 34,
   "id": "962d79c8",
   "metadata": {},
   "outputs": [
    {
     "name": "stdout",
     "output_type": "stream",
     "text": [
      "This is parent class method 1\n",
      "This is parent class method 2\n",
      "This is child class method 3 of class1\n",
      "This is child class method 4 of class1\n",
      "This is child class method 5 of class2\n",
      "This is child class method 6 of class2\n"
     ]
    }
   ],
   "source": [
    "obj_class3.method1()\n",
    "obj_class3.method2()\n",
    "obj_class3.method3()\n",
    "obj_class3.method4()\n",
    "obj_class3.method5()\n",
    "obj_class3.method6()"
   ]
  },
  {
   "cell_type": "code",
   "execution_count": 35,
   "id": "b0f61a35",
   "metadata": {},
   "outputs": [],
   "source": [
    "class class1:\n",
    "    def method1(self):\n",
    "        print(\"This is parent class method 1\")\n",
    "    def method2(self):\n",
    "        print(\"This is parent class method 2\")"
   ]
  },
  {
   "cell_type": "code",
   "execution_count": 36,
   "id": "5c8fb905",
   "metadata": {},
   "outputs": [],
   "source": [
    "class class2():\n",
    "    def method3(self):\n",
    "        print(\"This is child class method 3 of class1\")\n",
    "    def method4(self):\n",
    "        print(\"This is child class method 4 of class1\")"
   ]
  },
  {
   "cell_type": "code",
   "execution_count": 37,
   "id": "c43e173d",
   "metadata": {},
   "outputs": [],
   "source": [
    "class class3():\n",
    "    def method5(self):\n",
    "        print(\"This is child class method 5 of class2\")\n",
    "    def method6(self):\n",
    "        print(\"This is child class method 6 of class2\")"
   ]
  },
  {
   "cell_type": "code",
   "execution_count": 38,
   "id": "4b83a4c0",
   "metadata": {},
   "outputs": [],
   "source": [
    "class class4(class1, class2, class3):\n",
    "    def method7(self):\n",
    "        print(\"This is child class method 7 of class1,2,3\")\n",
    "    def method8(self):\n",
    "        print(\"This is child class method 6 of class1,2,3\")"
   ]
  },
  {
   "cell_type": "code",
   "execution_count": 39,
   "id": "17183ae4",
   "metadata": {},
   "outputs": [],
   "source": [
    "obj_class4 = class4()"
   ]
  },
  {
   "cell_type": "code",
   "execution_count": 40,
   "id": "b90d5afd",
   "metadata": {},
   "outputs": [
    {
     "name": "stdout",
     "output_type": "stream",
     "text": [
      "This is parent class method 1\n",
      "This is parent class method 2\n",
      "This is child class method 3 of class1\n",
      "This is child class method 4 of class1\n",
      "This is child class method 5 of class2\n",
      "This is child class method 6 of class2\n",
      "This is child class method 7 of class1,2,3\n",
      "This is child class method 6 of class1,2,3\n"
     ]
    }
   ],
   "source": [
    "obj_class4.method1()\n",
    "obj_class4.method2()\n",
    "obj_class4.method3()\n",
    "obj_class4.method4()\n",
    "obj_class4.method5()\n",
    "obj_class4.method6()\n",
    "obj_class4.method7()\n",
    "obj_class4.method8()"
   ]
  },
  {
   "cell_type": "code",
   "execution_count": 41,
   "id": "32bf5241",
   "metadata": {},
   "outputs": [],
   "source": [
    "## Abstraction"
   ]
  },
  {
   "cell_type": "code",
   "execution_count": 42,
   "id": "79d2f20a",
   "metadata": {},
   "outputs": [],
   "source": [
    "import abc\n",
    "\n",
    "class test:\n",
    "    @abc.abstractmethod\n",
    "    def test1(self):\n",
    "        pass\n",
    "    @abc.abstractmethod\n",
    "    def test2(self):\n",
    "        pass\n",
    "    @abc.abstractmethod\n",
    "    def test3(self):\n",
    "        pass"
   ]
  },
  {
   "cell_type": "code",
   "execution_count": 43,
   "id": "789433d8",
   "metadata": {},
   "outputs": [],
   "source": [
    "class test6(test):\n",
    "    def test4(self):\n",
    "        print(\"This is method 4 implementation\")\n",
    "    \n",
    "    def test1(self):\n",
    "        print(\"This is method 1 implementation in class 6\")"
   ]
  },
  {
   "cell_type": "code",
   "execution_count": 44,
   "id": "6d5627e6",
   "metadata": {},
   "outputs": [],
   "source": [
    "class test7(test):\n",
    "    def test5(self):\n",
    "        print(\"This is method 5 implementation\")\n",
    "    \n",
    "    def test2(self):\n",
    "        print(\"This is method 2 implementation in class 7\")"
   ]
  },
  {
   "cell_type": "code",
   "execution_count": 45,
   "id": "c6eab117",
   "metadata": {},
   "outputs": [],
   "source": [
    "obj_test6 = test6()"
   ]
  },
  {
   "cell_type": "code",
   "execution_count": 46,
   "id": "8a3e7cb0",
   "metadata": {},
   "outputs": [],
   "source": [
    "obj_test7 = test7()"
   ]
  },
  {
   "cell_type": "code",
   "execution_count": 47,
   "id": "46064b48",
   "metadata": {},
   "outputs": [
    {
     "name": "stdout",
     "output_type": "stream",
     "text": [
      "This is method 4 implementation\n"
     ]
    }
   ],
   "source": [
    "obj_test6.test4()"
   ]
  },
  {
   "cell_type": "code",
   "execution_count": 48,
   "id": "2a5789ed",
   "metadata": {},
   "outputs": [
    {
     "name": "stdout",
     "output_type": "stream",
     "text": [
      "This is method 5 implementation\n"
     ]
    }
   ],
   "source": [
    "obj_test7.test5()"
   ]
  },
  {
   "cell_type": "code",
   "execution_count": null,
   "id": "d8111163",
   "metadata": {},
   "outputs": [],
   "source": []
  },
  {
   "cell_type": "code",
   "execution_count": 49,
   "id": "a85ba1bc",
   "metadata": {},
   "outputs": [],
   "source": [
    "f = open(\"text.txt\", 'w')"
   ]
  },
  {
   "cell_type": "code",
   "execution_count": 50,
   "id": "5de15b9a",
   "metadata": {},
   "outputs": [],
   "source": [
    "f.write(\"check the file\")\n",
    "f.close()"
   ]
  },
  {
   "cell_type": "code",
   "execution_count": 51,
   "id": "51ba4e86",
   "metadata": {},
   "outputs": [],
   "source": [
    "data = open(\"text.txt\", 'r')"
   ]
  },
  {
   "cell_type": "code",
   "execution_count": 52,
   "id": "6eb73765",
   "metadata": {},
   "outputs": [
    {
     "data": {
      "text/plain": [
       "'check the file'"
      ]
     },
     "execution_count": 52,
     "metadata": {},
     "output_type": "execute_result"
    }
   ],
   "source": [
    "data.read()"
   ]
  },
  {
   "cell_type": "code",
   "execution_count": 53,
   "id": "12d23d57",
   "metadata": {},
   "outputs": [
    {
     "data": {
      "text/plain": [
       "''"
      ]
     },
     "execution_count": 53,
     "metadata": {},
     "output_type": "execute_result"
    }
   ],
   "source": [
    "data.read()"
   ]
  },
  {
   "cell_type": "code",
   "execution_count": 54,
   "id": "402d342c",
   "metadata": {},
   "outputs": [
    {
     "data": {
      "text/plain": [
       "0"
      ]
     },
     "execution_count": 54,
     "metadata": {},
     "output_type": "execute_result"
    }
   ],
   "source": [
    "data.seek(0)"
   ]
  },
  {
   "cell_type": "code",
   "execution_count": 55,
   "id": "9c7b2a3c",
   "metadata": {},
   "outputs": [
    {
     "data": {
      "text/plain": [
       "'check the file'"
      ]
     },
     "execution_count": 55,
     "metadata": {},
     "output_type": "execute_result"
    }
   ],
   "source": [
    "data.read()"
   ]
  },
  {
   "cell_type": "code",
   "execution_count": 56,
   "id": "a572a3d0",
   "metadata": {},
   "outputs": [
    {
     "name": "stdout",
     "output_type": "stream",
     "text": [
      "check the file\n"
     ]
    }
   ],
   "source": [
    "with open(\"text.txt\", 'r') as f:\n",
    "    print(f.read())"
   ]
  },
  {
   "cell_type": "code",
   "execution_count": 57,
   "id": "7e082e74",
   "metadata": {},
   "outputs": [],
   "source": [
    "data = {\n",
    "    \"name\": \"Swarnendu Ruidas\",\n",
    "    \"age\": 29,\n",
    "    \"education\": \"MTech\",\n",
    "    \"interest\": [\"ML\", \"DL\", \"Data Science\", \"NLP\"],\n",
    "    \"work experience\": {\n",
    "        \"intership\": \"1 year\",\n",
    "        \"Associate developer\": \"4 years\",\n",
    "        \"Fellowship\": \"6 months\"\n",
    "    }\n",
    "}"
   ]
  },
  {
   "cell_type": "code",
   "execution_count": 58,
   "id": "004b187a",
   "metadata": {},
   "outputs": [],
   "source": [
    "import json\n",
    "with open(\"text.json\", 'w') as f:\n",
    "    json.dump(data, f)"
   ]
  },
  {
   "cell_type": "code",
   "execution_count": 59,
   "id": "73601ce8",
   "metadata": {},
   "outputs": [],
   "source": [
    "with open(\"text.json\", 'r') as f:\n",
    "    data = json.load(f)"
   ]
  },
  {
   "cell_type": "code",
   "execution_count": 60,
   "id": "b6a5988f",
   "metadata": {},
   "outputs": [
    {
     "data": {
      "text/plain": [
       "{'name': 'Swarnendu Ruidas',\n",
       " 'age': 29,\n",
       " 'education': 'MTech',\n",
       " 'interest': ['ML', 'DL', 'Data Science', 'NLP'],\n",
       " 'work experience': {'intership': '1 year',\n",
       "  'Associate developer': '4 years',\n",
       "  'Fellowship': '6 months'}}"
      ]
     },
     "execution_count": 60,
     "metadata": {},
     "output_type": "execute_result"
    }
   ],
   "source": [
    "data"
   ]
  },
  {
   "cell_type": "code",
   "execution_count": 61,
   "id": "870bc86f",
   "metadata": {},
   "outputs": [],
   "source": [
    "data1 = [[\"name\", \"age\", \"work experience\"],\n",
    "         [\"Swarnendu\", 29, \"5 years\"],\n",
    "         [\"Rohit\", 31, \"6 years\"]]"
   ]
  },
  {
   "cell_type": "code",
   "execution_count": 62,
   "id": "a67aaf0d",
   "metadata": {},
   "outputs": [],
   "source": [
    "import csv\n",
    "with open(\"text.csv\", 'w') as f:\n",
    "    w = csv.writer(f)\n",
    "    for i in data1:\n",
    "        w.writerow(i)    "
   ]
  },
  {
   "cell_type": "code",
   "execution_count": 63,
   "id": "6b44da75",
   "metadata": {},
   "outputs": [
    {
     "data": {
      "text/plain": [
       "['Swarnendu Ruidas',\n",
       " 29,\n",
       " 'MTech',\n",
       " ['ML', 'DL', 'Data Science', 'NLP'],\n",
       " {'intership': '1 year',\n",
       "  'Associate developer': '4 years',\n",
       "  'Fellowship': '6 months'}]"
      ]
     },
     "execution_count": 63,
     "metadata": {},
     "output_type": "execute_result"
    }
   ],
   "source": [
    "list(data.values())"
   ]
  },
  {
   "cell_type": "code",
   "execution_count": 64,
   "id": "d3985511",
   "metadata": {},
   "outputs": [],
   "source": [
    "import logging"
   ]
  },
  {
   "cell_type": "code",
   "execution_count": 65,
   "id": "8bda055c",
   "metadata": {},
   "outputs": [],
   "source": [
    "logging.basicConfig(filename = \"test.log\", level = logging.INFO)"
   ]
  },
  {
   "cell_type": "code",
   "execution_count": 66,
   "id": "676c24b3",
   "metadata": {},
   "outputs": [],
   "source": [
    "logging.info(\"This is logging information\")\n",
    "logging.error(\"This is logging error information\")\n",
    "logging.critical(\"This is logging critical information\")"
   ]
  },
  {
   "cell_type": "code",
   "execution_count": 67,
   "id": "ebd5cc7a",
   "metadata": {},
   "outputs": [
    {
     "name": "stdout",
     "output_type": "stream",
     "text": [
      "There is something wrong division by zero\n"
     ]
    }
   ],
   "source": [
    "try:\n",
    "    10/0\n",
    "except Exception as e:\n",
    "    print(\"There is something wrong\", e)"
   ]
  },
  {
   "cell_type": "code",
   "execution_count": 68,
   "id": "f1aed39b",
   "metadata": {},
   "outputs": [
    {
     "name": "stdout",
     "output_type": "stream",
     "text": [
      "There is something wrong division by zero\n",
      "It will get executed always\n"
     ]
    }
   ],
   "source": [
    "try:\n",
    "    10/0\n",
    "except Exception as e:\n",
    "    print(\"There is something wrong\", e)\n",
    "else:\n",
    "    print(\"This block may excute when try execute itself successfully\")\n",
    "finally:\n",
    "    print(\"It will get executed always\")"
   ]
  },
  {
   "cell_type": "code",
   "execution_count": 69,
   "id": "c3717627",
   "metadata": {},
   "outputs": [],
   "source": [
    "class validateage(Exception):\n",
    "    def __init__(self, msg):\n",
    "        self.msg = msg"
   ]
  },
  {
   "cell_type": "code",
   "execution_count": 70,
   "id": "aabb96b9",
   "metadata": {},
   "outputs": [],
   "source": [
    "def validate_age(age):\n",
    "    if age < 0:\n",
    "        raise validateage(\"The age should not be negetive\")\n",
    "    elif age > 200:\n",
    "        raise validateage(\"The age is too high\")\n",
    "    else:\n",
    "        print(\"The age is valid\")"
   ]
  },
  {
   "cell_type": "code",
   "execution_count": 71,
   "id": "872af7cc",
   "metadata": {},
   "outputs": [
    {
     "name": "stdout",
     "output_type": "stream",
     "text": [
      "The age is valid\n"
     ]
    }
   ],
   "source": [
    "try:\n",
    "    validate_age(12)\n",
    "except validateage as vg:\n",
    "    print(\"issue: \", vg)"
   ]
  },
  {
   "cell_type": "code",
   "execution_count": 72,
   "id": "067064d4",
   "metadata": {},
   "outputs": [
    {
     "name": "stdout",
     "output_type": "stream",
     "text": [
      "issue:  The age should not be negetive\n"
     ]
    }
   ],
   "source": [
    "try:\n",
    "    validate_age(-12)\n",
    "except validateage as vg:\n",
    "    print(\"issue: \", vg)"
   ]
  },
  {
   "cell_type": "code",
   "execution_count": 73,
   "id": "45e54faf",
   "metadata": {},
   "outputs": [
    {
     "name": "stdout",
     "output_type": "stream",
     "text": [
      "issue:  The age is too high\n"
     ]
    }
   ],
   "source": [
    "try:\n",
    "    validate_age(212)\n",
    "except validateage as vg:\n",
    "    print(\"issue: \", vg)"
   ]
  },
  {
   "cell_type": "markdown",
   "id": "2d335054",
   "metadata": {},
   "source": [
    "## Mutithreding"
   ]
  },
  {
   "cell_type": "code",
   "execution_count": 74,
   "id": "4132d699",
   "metadata": {},
   "outputs": [],
   "source": [
    "import threading\n",
    "import urllib.request\n",
    "\n",
    "def file_download(url, filename):\n",
    "    urllib.request.urlretrieve(url, filename)"
   ]
  },
  {
   "cell_type": "code",
   "execution_count": 75,
   "id": "c3c84f42",
   "metadata": {},
   "outputs": [],
   "source": [
    "file_download(\"https://raw.githubusercontent.com/itsfoss/text-files/master/agatha.txt\", 'test1.txt')"
   ]
  },
  {
   "cell_type": "code",
   "execution_count": 76,
   "id": "7dbeb98b",
   "metadata": {},
   "outputs": [],
   "source": [
    "url_list =  ['https://raw.githubusercontent.com/itsfoss/text-files/master/agatha.txt', 'https://raw.githubusercontent.com/itsfoss/text-files/master/sherlock.txt','https://raw.githubusercontent.com/itsfoss/text-files/master/sample_log_file.txt']"
   ]
  },
  {
   "cell_type": "code",
   "execution_count": 77,
   "id": "e37aa99b",
   "metadata": {},
   "outputs": [],
   "source": [
    "file_list = [\"test1.txt\", \"test2.txt\", \"test3.txt\"]"
   ]
  },
  {
   "cell_type": "code",
   "execution_count": 78,
   "id": "8b52098b",
   "metadata": {},
   "outputs": [],
   "source": [
    "thread = [threading.Thread(target = file_download, args = (url_list[i], file_list[i])) for i in range(len(url_list))]"
   ]
  },
  {
   "cell_type": "code",
   "execution_count": 79,
   "id": "033da0d5",
   "metadata": {},
   "outputs": [
    {
     "data": {
      "text/plain": [
       "[<Thread(Thread-5 (file_download), initial)>,\n",
       " <Thread(Thread-6 (file_download), initial)>,\n",
       " <Thread(Thread-7 (file_download), initial)>]"
      ]
     },
     "execution_count": 79,
     "metadata": {},
     "output_type": "execute_result"
    }
   ],
   "source": [
    "thread"
   ]
  },
  {
   "cell_type": "code",
   "execution_count": 80,
   "id": "82bd039c",
   "metadata": {},
   "outputs": [],
   "source": [
    "for t in thread:\n",
    "    t.start()"
   ]
  },
  {
   "cell_type": "code",
   "execution_count": null,
   "id": "60b17c77",
   "metadata": {},
   "outputs": [],
   "source": []
  },
  {
   "cell_type": "code",
   "execution_count": null,
   "id": "0873afde",
   "metadata": {},
   "outputs": [],
   "source": []
  },
  {
   "cell_type": "code",
   "execution_count": 81,
   "id": "df59189b",
   "metadata": {},
   "outputs": [],
   "source": [
    "import time"
   ]
  },
  {
   "cell_type": "code",
   "execution_count": 82,
   "id": "9c2e2ca7",
   "metadata": {},
   "outputs": [
    {
     "name": "stdout",
     "output_type": "stream",
     "text": [
      "value of x 1 and value of shareed_var 1\n"
     ]
    }
   ],
   "source": [
    "shared_var = 0\n",
    "lock_var = threading.Lock()\n",
    "def test4(x) :\n",
    "    global shared_var\n",
    "    with lock_var :\n",
    "        shared_var = shared_var + 1\n",
    "        print(\"value of x %d and value of shareed_var %d\" %(x, shared_var))\n",
    "        time.sleep(1)\n",
    "\n",
    "thread5  = [threading.Thread(target=test4 , args = (i,)) for i in [1,2,3,4,4,5]]\n",
    "for t in thread5 :\n",
    "    t.start()"
   ]
  },
  {
   "cell_type": "code",
   "execution_count": 83,
   "id": "8d8de894",
   "metadata": {},
   "outputs": [
    {
     "name": "stdout",
     "output_type": "stream",
     "text": [
      "value of x 1 and value of shareed_var 1\n"
     ]
    }
   ],
   "source": [
    "shared_var = 0\n",
    "lock_var = threading.Lock()\n",
    "def test4(x) :\n",
    "    global shared_var\n",
    "    with lock_var :\n",
    "        shared_var = shared_var + 1\n",
    "        print(\"value of x %d and value of shareed_var %d\" %(x, shared_var))\n",
    "        time.sleep(1)\n",
    "\n",
    "thread5  = [threading.Thread(target=test4 , args = (i,)) for i in [1,2,3,4,4,5]]\n",
    "for t in thread5 :\n",
    "    t.start()\n"
   ]
  },
  {
   "cell_type": "code",
   "execution_count": 84,
   "id": "40c34581",
   "metadata": {},
   "outputs": [
    {
     "name": "stdout",
     "output_type": "stream",
     "text": [
      "value of x 1 and value of shareed_var 1\n"
     ]
    }
   ],
   "source": [
    "shared_var = 0\n",
    "lock_var = threading.Lock()\n",
    "def test4(x):\n",
    "    global shared_var\n",
    "    with lock_var:\n",
    "        shared_var = shared_var + 1\n",
    "        print(\"value of x %d and value of shareed_var %d\" %(x, shared_var))\n",
    "        time.sleep(1)\n",
    "        \n",
    "thread5 = [threading.Thread(target = test4, args = (i,)) for i in [1, 2, 3, 4, 4, 5]]\n",
    "for t in thread5:\n",
    "    t.start()"
   ]
  },
  {
   "cell_type": "markdown",
   "id": "6677a9be",
   "metadata": {},
   "source": [
    "## multiprocessing"
   ]
  },
  {
   "cell_type": "code",
   "execution_count": 88,
   "id": "287b44dd",
   "metadata": {},
   "outputs": [],
   "source": [
    "import multiprocessing"
   ]
  },
  {
   "cell_type": "code",
   "execution_count": null,
   "id": "c2c9a499",
   "metadata": {},
   "outputs": [],
   "source": []
  },
  {
   "cell_type": "code",
   "execution_count": 89,
   "id": "5e3b59cc",
   "metadata": {},
   "outputs": [
    {
     "name": "stderr",
     "output_type": "stream",
     "text": [
      "Traceback (most recent call last):\n",
      "Traceback (most recent call last):\n",
      "  File \"<string>\", line 1, in <module>\n",
      "  File \"<string>\", line 1, in <module>\n",
      "  File \"/Users/I355849/anaconda3/lib/python3.11/multiprocessing/spawn.py\", line 122, in spawn_main\n",
      "  File \"/Users/I355849/anaconda3/lib/python3.11/multiprocessing/spawn.py\", line 122, in spawn_main\n",
      "    exitcode = _main(fd, parent_sentinel)\n",
      "    exitcode = _main(fd, parent_sentinel)\n",
      "               ^^^^^^^^^^^^^^^^^^^^^^^^^^\n",
      "  File \"/Users/I355849/anaconda3/lib/python3.11/multiprocessing/spawn.py\", line 132, in _main\n",
      "               ^^^^^^^^^^^^^^^^^^^^^^^^^^\n",
      "  File \"/Users/I355849/anaconda3/lib/python3.11/multiprocessing/spawn.py\", line 132, in _main\n",
      "    self = reduction.pickle.load(from_parent)\n",
      "    self = reduction.pickle.load(from_parent)\n",
      "           ^^^^^^^^^^^^^^^^^^^^^^^^^^^^^^^^^^\n",
      "AttributeError: Can't get attribute 'producer' on <module '__main__' (built-in)>\n",
      "           ^^^^^^^^^^^^^^^^^^^^^^^^^^^^^^^^^^\n",
      "AttributeError: Can't get attribute 'consumer' on <module '__main__' (built-in)>\n"
     ]
    }
   ],
   "source": [
    "def producer(q):\n",
    "    for i in [\"Swarnendu\", 30, \"software developer\", 5.5, 5.10]:\n",
    "        q.put(i)\n",
    "\n",
    "def consumer(q):\n",
    "    while True:\n",
    "        item = q.get()\n",
    "        if item is None:\n",
    "            break\n",
    "        print(item)\n",
    "\n",
    "if __name__ == '__main__':\n",
    "    queue = multiprocessing.Queue()\n",
    "    m1 = multiprocessing.Process(target = producer, args = (queue,))\n",
    "    m2 = multiprocessing.Process(target = consumer, args = (queue,))\n",
    "    m1.start()\n",
    "    m2.start()\n",
    "    queue.put(\"Ruidas\")\n",
    "    m1.join()\n",
    "    m2.join()"
   ]
  },
  {
   "cell_type": "code",
   "execution_count": null,
   "id": "0abfd090",
   "metadata": {},
   "outputs": [],
   "source": []
  },
  {
   "cell_type": "code",
   "execution_count": 90,
   "id": "8b79ca9b",
   "metadata": {},
   "outputs": [
    {
     "name": "stderr",
     "output_type": "stream",
     "text": [
      "Traceback (most recent call last):\n",
      "  File \"<string>\", line 1, in <module>\n",
      "  File \"/Users/I355849/anaconda3/lib/python3.11/multiprocessing/spawn.py\", line 122, in spawn_main\n",
      "    exitcode = _main(fd, parent_sentinel)\n",
      "               ^^^^^^^^^^^^^^^^^^^^^^^^^^\n",
      "  File \"/Users/I355849/anaconda3/lib/python3.11/multiprocessing/spawn.py\", line 132, in _main\n",
      "    self = reduction.pickle.load(from_parent)\n",
      "           ^^^^^^^^^^^^^^^^^^^^^^^^^^^^^^^^^^\n",
      "AttributeError: Can't get attribute 'producer' on <module '__main__' (built-in)>\n",
      "Traceback (most recent call last):\n",
      "  File \"<string>\", line 1, in <module>\n",
      "  File \"/Users/I355849/anaconda3/lib/python3.11/multiprocessing/spawn.py\", line 122, in spawn_main\n",
      "    exitcode = _main(fd, parent_sentinel)\n",
      "               ^^^^^^^^^^^^^^^^^^^^^^^^^^\n",
      "  File \"/Users/I355849/anaconda3/lib/python3.11/multiprocessing/spawn.py\", line 132, in _main\n",
      "    self = reduction.pickle.load(from_parent)\n",
      "           ^^^^^^^^^^^^^^^^^^^^^^^^^^^^^^^^^^\n",
      "AttributeError: Can't get attribute 'consume' on <module '__main__' (built-in)>\n"
     ]
    }
   ],
   "source": [
    "import multiprocessing\n",
    "\n",
    "def producer(q):\n",
    "    for i in [\"sudh\" , \"kumar\" , \"pwskills\" , \"krish\" ,\"naik\"] : \n",
    "        q.put(i)\n",
    "    \n",
    "def consume(q) : \n",
    "    while True :\n",
    "        item = q.get()\n",
    "        if item is None :\n",
    "            break \n",
    "        print(item)\n",
    "        \n",
    "if __name__ == '__main__':\n",
    "    queue = multiprocessing.Queue()\n",
    "    m1 = multiprocessing.Process(target=producer , args= (queue,))\n",
    "    m2 = multiprocessing.Process(target=consume ,args=(queue,) )\n",
    "    m1.start()\n",
    "    m2.start()\n",
    "    queue.put(\"xyz\")\n",
    "    m1.join()\n",
    "    m2.join()"
   ]
  },
  {
   "cell_type": "code",
   "execution_count": 91,
   "id": "ef0bc70f",
   "metadata": {},
   "outputs": [
    {
     "name": "stderr",
     "output_type": "stream",
     "text": [
      "Traceback (most recent call last):\n",
      "  File \"<string>\", line 1, in <module>\n",
      "Traceback (most recent call last):\n",
      "  File \"/Users/I355849/anaconda3/lib/python3.11/multiprocessing/spawn.py\", line 122, in spawn_main\n",
      "  File \"<string>\", line 1, in <module>\n",
      "  File \"/Users/I355849/anaconda3/lib/python3.11/multiprocessing/spawn.py\", line 122, in spawn_main\n",
      "    exitcode = _main(fd, parent_sentinel)\n",
      "    exitcode = _main(fd, parent_sentinel)\n",
      "               ^^^^^^^^^^^^^^^^^^^^^^^^^^\n",
      "  File \"/Users/I355849/anaconda3/lib/python3.11/multiprocessing/spawn.py\", line 132, in _main\n",
      "               ^^^^^^^^^^^^^^^^^^^^^^^^^^\n",
      "  File \"/Users/I355849/anaconda3/lib/python3.11/multiprocessing/spawn.py\", line 132, in _main\n",
      "    self = reduction.pickle.load(from_parent)\n",
      "           ^^^^^^^^^^^^^^^^^^^^^^^^^^^^^^^^^^\n",
      "AttributeError: Can't get attribute 'sender' on <module '__main__' (built-in)>\n",
      "    self = reduction.pickle.load(from_parent)\n",
      "           ^^^^^^^^^^^^^^^^^^^^^^^^^^^^^^^^^^\n",
      "AttributeError: Can't get attribute 'receive' on <module '__main__' (built-in)>\n"
     ]
    }
   ],
   "source": [
    "import multiprocessing\n",
    "\n",
    "def sender(conn , msg):\n",
    "    for i in msg:\n",
    "        conn.send(i)\n",
    "    conn.close()\n",
    "    \n",
    "def receive(conn) :\n",
    "    while True:\n",
    "        try:\n",
    "            msg = conn.recv()\n",
    "        except Exception as e :\n",
    "            print(e)\n",
    "            break\n",
    "        print(msg)\n",
    "\n",
    "if __name__ == '__main__':\n",
    "    msg = [\"my name is sudh\" , \"this is my msg  to my students \" , \"i am taking class for dsm \" , \"try to practice all the code \"]\n",
    "    parent_conn , child_conn = multiprocessing.Pipe()\n",
    "    m1 = multiprocessing.Process(target=sender , args = (child_conn , msg))\n",
    "    m2 = multiprocessing.Process(target=receive , args = (parent_conn,))\n",
    "    m1.start()\n",
    "    m2.start()\n",
    "    m1.join()\n",
    "    child_conn.close()\n",
    "    m2.join()\n",
    "    parent_conn.close()"
   ]
  },
  {
   "cell_type": "code",
   "execution_count": null,
   "id": "5c7f1e42",
   "metadata": {},
   "outputs": [],
   "source": []
  },
  {
   "cell_type": "code",
   "execution_count": null,
   "id": "703753f0",
   "metadata": {},
   "outputs": [],
   "source": []
  },
  {
   "cell_type": "code",
   "execution_count": null,
   "id": "a30bc09f",
   "metadata": {},
   "outputs": [],
   "source": []
  }
 ],
 "metadata": {
  "kernelspec": {
   "display_name": "Python 3 (ipykernel)",
   "language": "python",
   "name": "python3"
  },
  "language_info": {
   "codemirror_mode": {
    "name": "ipython",
    "version": 3
   },
   "file_extension": ".py",
   "mimetype": "text/x-python",
   "name": "python",
   "nbconvert_exporter": "python",
   "pygments_lexer": "ipython3",
   "version": "3.11.5"
  }
 },
 "nbformat": 4,
 "nbformat_minor": 5
}
