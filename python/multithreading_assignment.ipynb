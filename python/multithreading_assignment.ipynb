{
 "cells": [
  {
   "cell_type": "markdown",
   "id": "7a441db6-d2b2-44bd-9af5-aba7e4ede7d5",
   "metadata": {},
   "source": [
    "## Multithreading"
   ]
  },
  {
   "cell_type": "markdown",
   "id": "717c3673-f837-4ce0-9b75-de453677157a",
   "metadata": {},
   "source": [
    "### Question 1"
   ]
  },
  {
   "cell_type": "markdown",
   "id": "42db32bf-e0f7-4f99-a513-6eba6266ec7b",
   "metadata": {},
   "source": [
    "### What is multithreading in python?\n",
    "\n",
    "#### Multithreading in Python is the process of running multiple threads simultaneously within a single process.\n",
    "\n",
    "### Why is it used?\n",
    "\n",
    "#### The primary purpose of multithreading in Python is to improve the performance of a program by using multiple CPUs or CPU cores.\n",
    "\n",
    "### Name the module used to handle threads in python\n",
    "\n",
    "#### The threading module"
   ]
  },
  {
   "cell_type": "markdown",
   "id": "4c0c3b2f-1651-42a4-9971-b92fb0d1589a",
   "metadata": {},
   "source": [
    "## Question 2"
   ]
  },
  {
   "cell_type": "markdown",
   "id": "86f894af-3a10-418d-9610-05981f77eb8a",
   "metadata": {},
   "source": [
    "### Why threading module used?\n",
    "\n",
    "#### The treading module is used to handle threads in python which allows a program to operate more efficiently by doing multiple things at the same time.\n",
    "\n",
    "#### In Python, the method threading.activeCount() from the threading module is used to count the currently active or running threads.\n",
    "#### currentThread() is an inbuilt method of the threading module in Python. It is used to return the current thread object which corresponds to the caller's thread of control.\n",
    "#### The module function enumerate() returns a list of all alive threads."
   ]
  },
  {
   "cell_type": "markdown",
   "id": "2d468fef-d114-485b-bacd-750bb0b7f5fe",
   "metadata": {},
   "source": [
    "## Question 3"
   ]
  },
  {
   "cell_type": "markdown",
   "id": "1bcf371d-f9da-4294-9692-5d6e9cbf154f",
   "metadata": {},
   "source": [
    "#### run() - method representing the thread’s activity. The standard run() method invokes the callable object passed to the object’s constructor as the target argument, if any, with positional and keyword arguments taken from the args and kwargs arguments, respectively.\n",
    "#### start() - Start the thread’s activity. It must be called at most once per thread object. It arranges for the object’s run() method to be invoked in a separate thread of control.\n",
    "#### join() - Wait until the thread terminates. This blocks the calling thread until the thread whose join() method is called terminates – either normally or through an unhandled exception – or until the optional timeout occurs.\n",
    "#### isAlive() - Return whether the thread is alive. This method returns True just before the run() method starts until just after the run() method terminates."
   ]
  },
  {
   "cell_type": "markdown",
   "id": "2d1c4874-783a-4d30-88a9-92bd59e5f963",
   "metadata": {},
   "source": [
    "## Question 4"
   ]
  },
  {
   "cell_type": "code",
   "execution_count": 35,
   "id": "0fca64d3-ee6d-43fa-a84e-923d5fabaf73",
   "metadata": {},
   "outputs": [],
   "source": [
    "import threading\n",
    "\n",
    "def square(n):\n",
    "    print(n ** 2)\n",
    "\n",
    "def cube(n):\n",
    "    print(n ** 3)\n",
    "\n",
    "thread1 = [threading.Thread(target = square, args = (i,)) for i in [1, 1, 1, 3, 3, 3, 5, 7, 9 ]]\n",
    "thread2 = [threading.Thread(target = cube, args = (i,)) for i in [1, 1, 1, 3, 3, 3, 5, 7, 9 ]]"
   ]
  },
  {
   "cell_type": "code",
   "execution_count": 36,
   "id": "001cdd3a-a1c8-464a-a5ef-565d70d79c26",
   "metadata": {},
   "outputs": [
    {
     "name": "stdout",
     "output_type": "stream",
     "text": [
      "1\n",
      "1\n",
      "1\n",
      "9\n",
      "9\n",
      "9\n",
      "25\n",
      "49\n",
      "81\n"
     ]
    }
   ],
   "source": [
    "for t1 in thread1:\n",
    "    t1.start()"
   ]
  },
  {
   "cell_type": "code",
   "execution_count": 37,
   "id": "5bca514d-85f9-4293-ab65-7052476a0c4a",
   "metadata": {},
   "outputs": [
    {
     "name": "stdout",
     "output_type": "stream",
     "text": [
      "11\n",
      "\n",
      "1\n",
      "27\n",
      "27\n",
      "27\n",
      "125\n",
      "343\n",
      "729\n"
     ]
    }
   ],
   "source": [
    "for t2 in thread2:\n",
    "    t2.start()"
   ]
  },
  {
   "cell_type": "markdown",
   "id": "e7f6ecb2-caab-41d9-aec0-18654af1da29",
   "metadata": {},
   "source": [
    "## Question 5"
   ]
  },
  {
   "cell_type": "markdown",
   "id": "a8dde0b8-0656-43f6-aaa7-734a20ba14d9",
   "metadata": {},
   "source": [
    "### State advantages and disadvantages of multithreading\n",
    "\n",
    "### Advantages\n",
    "#### 1. Multithreading in an interactive application enables a program to continue running even if a section is blocked or executing a lengthy process, increasing user responsiveness.\n",
    "#### 2. Threads share the memory and resources of the process they belong to which permits an app to execute multiple code threads in the same address space.\n",
    "#### 3. Threads share a memory with the process to which they belong, establishing and context switching threads is more cost-effective. In general, generating and managing processes takes far more time than threads.\n",
    "#### 4. Multithreading on multiple CPU machines increases parallelism.\n",
    "#### 5. Thread synchronization functions could be used to improve inter-process communication. Multithreading might be considerably amplified in a multiprocessor architecture, where every thread could execute in parallel on a distinct processor. It enhances concurrency.\n",
    "\n",
    "### Disadvantages\n",
    "#### 1. It needs more careful synchronization.\n",
    "#### 2. It can consume a large space of stocks of blocked threads.\n",
    "#### 3. It needs support for thread or process.\n",
    "#### 4. If a parent process has several threads for proper process functioning, the child processes should also be multithreaded because they may be required.\n",
    "#### 5. It imposes context switching overhead."
   ]
  },
  {
   "cell_type": "markdown",
   "id": "1dd9f8d8-b895-427c-bf5e-5cdc1562816a",
   "metadata": {},
   "source": [
    "## Question 6"
   ]
  },
  {
   "cell_type": "markdown",
   "id": "39946b10-9f92-4341-9793-31a631b823ba",
   "metadata": {},
   "source": [
    "### Explain deadlocks and race conditions.\n",
    "\n",
    "#### Two basic problems commonly occur in multi-threaded programs:\n",
    "#### Deadlock - Two threads hold locks on different resources, each waiting indefinitely for the other to release its lock.\n",
    "#### Race condition - Two (or more) threads alter the state of a shared resource concurrently, leaving it in an unpredictable state."
   ]
  },
  {
   "cell_type": "code",
   "execution_count": null,
   "id": "f68e1451-3764-4ee4-b1f8-8f75be5f9ddd",
   "metadata": {},
   "outputs": [],
   "source": []
  },
  {
   "cell_type": "code",
   "execution_count": null,
   "id": "b7f07c65-f1a8-48bc-8842-cc9669a3b9e7",
   "metadata": {},
   "outputs": [],
   "source": []
  }
 ],
 "metadata": {
  "kernelspec": {
   "display_name": "Python 3 (ipykernel)",
   "language": "python",
   "name": "python3"
  },
  "language_info": {
   "codemirror_mode": {
    "name": "ipython",
    "version": 3
   },
   "file_extension": ".py",
   "mimetype": "text/x-python",
   "name": "python",
   "nbconvert_exporter": "python",
   "pygments_lexer": "ipython3",
   "version": "3.10.8"
  }
 },
 "nbformat": 4,
 "nbformat_minor": 5
}
