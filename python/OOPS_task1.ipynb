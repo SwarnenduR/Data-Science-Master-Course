{
 "cells": [
  {
   "cell_type": "markdown",
   "id": "8974c088-7159-4a72-a005-ab33778e2668",
   "metadata": {},
   "source": [
    "## OOPS Task"
   ]
  },
  {
   "cell_type": "markdown",
   "id": "4e2aeee7-fcfc-4b39-8978-908223a366f4",
   "metadata": {},
   "source": [
    "## Question 1"
   ]
  },
  {
   "cell_type": "code",
   "execution_count": 1,
   "id": "9e488191-8ef6-4f29-8da1-cf4daa3013ea",
   "metadata": {},
   "outputs": [],
   "source": [
    "class vehicle:\n",
    "    \n",
    "    def __init__(self, name_of_vehicle, max_speed, average_of_vehicle):\n",
    "        self.name_of_vehicle = name_of_vehicle\n",
    "        self.max_speed = max_speed\n",
    "        self.average_of_vehicle = average_of_vehicle"
   ]
  },
  {
   "cell_type": "markdown",
   "id": "15e956c6-b243-4d06-b7dd-863309338360",
   "metadata": {},
   "source": [
    "## Question 2"
   ]
  },
  {
   "cell_type": "code",
   "execution_count": 2,
   "id": "86b4e5f7-ef49-4af8-9c4b-3aef43b704ce",
   "metadata": {},
   "outputs": [],
   "source": [
    "class vehicle:\n",
    "    \n",
    "    def __init__(self, name_of_vehicle, max_speed, average_of_vehicle):\n",
    "        self.name_of_vehicle = name_of_vehicle\n",
    "        self.max_speed = max_speed\n",
    "        self.average_of_vehicle = average_of_vehicle\n",
    "        \n",
    "class car(vehicle):\n",
    "    \n",
    "    def seating_capacity(self, capacity):\n",
    "        return self.name_of_vehicle, self.capacity"
   ]
  },
  {
   "cell_type": "markdown",
   "id": "c9d76926-ca9c-41dd-813f-e58276454085",
   "metadata": {},
   "source": [
    "## Question 3"
   ]
  },
  {
   "cell_type": "markdown",
   "id": "31257662-026e-4fae-96d5-29bcbfb1fda4",
   "metadata": {},
   "source": [
    "## What is multiple inheritance?\n",
    "### When a class can be derived from more than one base class this type of inheritance is called multiple inheritances."
   ]
  },
  {
   "cell_type": "code",
   "execution_count": 3,
   "id": "cae58003-9f55-4b3a-8ae2-55061e05bda6",
   "metadata": {},
   "outputs": [
    {
     "name": "stdout",
     "output_type": "stream",
     "text": [
      "This is my class1\n",
      "This is my class2\n"
     ]
    }
   ],
   "source": [
    "## Example\n",
    "class class1:\n",
    "    \n",
    "    def test_class1(self):\n",
    "        print(\"This is my class1\")\n",
    "        \n",
    "class class2:\n",
    "    \n",
    "    def test_class2(self):\n",
    "        print(\"This is my class2\")\n",
    "        \n",
    "class class3(class1, class2):\n",
    "    pass\n",
    "\n",
    "class3_obj = class3()\n",
    "class3_obj.test_class1()\n",
    "class3_obj.test_class2()"
   ]
  },
  {
   "cell_type": "markdown",
   "id": "9a21e9d7-9bc1-48cb-be35-58891b13e041",
   "metadata": {},
   "source": [
    "## Question 4"
   ]
  },
  {
   "cell_type": "markdown",
   "id": "56a73772-9766-4dbc-bafe-c79bc77e30b4",
   "metadata": {},
   "source": [
    "### What are getter and setter in python?\n",
    "#### In python getters are the methods that are used in Object-Oriented Programming to access a class's private attributes.\n",
    "#### In python setter is a method that is used to set the property's value. It is very useful in object-oriented programming to set the value of private attributes in a class."
   ]
  },
  {
   "cell_type": "code",
   "execution_count": 4,
   "id": "c6e8600a-a912-4808-afe6-4172b068dcb6",
   "metadata": {},
   "outputs": [],
   "source": [
    "## Example\n",
    "\n",
    "class car:\n",
    "    def __init__(self, year, make, model, speed):\n",
    "        self.__year = year\n",
    "        self.__make = make\n",
    "        self.__model = model\n",
    "        self.__speed = speed\n",
    "        \n",
    "    @property\n",
    "    def get_speed(self):\n",
    "        return self.__speed\n",
    "    \n",
    "    @get_speed.setter\n",
    "    def set_speed(self, speed):\n",
    "        self.__speed = speed"
   ]
  },
  {
   "cell_type": "code",
   "execution_count": 5,
   "id": "b971f0bb-52eb-4163-847b-586c914bf524",
   "metadata": {},
   "outputs": [],
   "source": [
    "my_car = car(2022, \"Hyundai\", \"aura\", 250)"
   ]
  },
  {
   "cell_type": "code",
   "execution_count": 6,
   "id": "81e67953-54ae-4e0c-9d8a-cea85d16f150",
   "metadata": {},
   "outputs": [
    {
     "data": {
      "text/plain": [
       "250"
      ]
     },
     "execution_count": 6,
     "metadata": {},
     "output_type": "execute_result"
    }
   ],
   "source": [
    "my_car.get_speed"
   ]
  },
  {
   "cell_type": "code",
   "execution_count": 7,
   "id": "3a61278a-2c4a-4559-b151-2e4c82966ecf",
   "metadata": {},
   "outputs": [
    {
     "data": {
      "text/plain": [
       "250"
      ]
     },
     "execution_count": 7,
     "metadata": {},
     "output_type": "execute_result"
    }
   ],
   "source": [
    "my_car.set_speed"
   ]
  },
  {
   "cell_type": "code",
   "execution_count": 8,
   "id": "cfefb3d8-65b2-4539-85e6-47c3996f243f",
   "metadata": {},
   "outputs": [],
   "source": [
    "my_car.set_speed = 150"
   ]
  },
  {
   "cell_type": "code",
   "execution_count": 9,
   "id": "9d529834-e4fe-4ec9-ba1e-c45b0007bcc4",
   "metadata": {},
   "outputs": [
    {
     "data": {
      "text/plain": [
       "150"
      ]
     },
     "execution_count": 9,
     "metadata": {},
     "output_type": "execute_result"
    }
   ],
   "source": [
    "my_car.set_speed"
   ]
  },
  {
   "cell_type": "markdown",
   "id": "881f6990-bcd3-4c7c-b956-74edfa3d33a0",
   "metadata": {},
   "source": [
    "## Question 5"
   ]
  },
  {
   "cell_type": "markdown",
   "id": "d9c93ee3-a5ae-4fec-914f-6abcd8fc222e",
   "metadata": {},
   "source": [
    "### What is method overriding in python?\n",
    "#### Method overriding is an ability of any object oriented programming language that allows a subclass or child class to provide a specific implementation of a method that is already provided by one of its super-classes or parent classes. When a method in a subclass has the same name, same parameters or signature and same return type as a method in its super-class, then the method in the subclass is said to override the method in the super class."
   ]
  },
  {
   "cell_type": "code",
   "execution_count": 10,
   "id": "4bb031ea-8788-43d4-bde6-1048f944bc27",
   "metadata": {},
   "outputs": [],
   "source": [
    "## Example\n",
    "## Python program to demonstrate\n",
    "## method overriding\n",
    "\n",
    "class Parent():\n",
    "\t\n",
    "\tdef __init__(self):\n",
    "\t\tprint(\"This is parent class\")\n",
    "\t\t\n",
    "\t# Parent's show method\n",
    "\tdef show(self):\n",
    "\t\tprint(\"This is parent's show method\")\n",
    "\t\t\n",
    "class Child(Parent):\n",
    "\t\n",
    "\tdef __init__(self):\n",
    "\t\tprint(\"This is child class\")\n",
    "\t\t\n",
    "\t# Child's show method\n",
    "\tdef show(self):\n",
    "\t\tprint(\"This is child's show method\")"
   ]
  },
  {
   "cell_type": "code",
   "execution_count": 11,
   "id": "a23da1df-17f5-4f91-8424-2672afdd6c79",
   "metadata": {},
   "outputs": [
    {
     "name": "stdout",
     "output_type": "stream",
     "text": [
      "This is parent class\n",
      "This is child class\n"
     ]
    }
   ],
   "source": [
    "obj1 = Parent()\n",
    "obj2 = Child()"
   ]
  },
  {
   "cell_type": "code",
   "execution_count": 12,
   "id": "90299ef6-c0fc-4f91-9c36-357d695fc17c",
   "metadata": {},
   "outputs": [
    {
     "name": "stdout",
     "output_type": "stream",
     "text": [
      "This is parent's show method\n",
      "This is child's show method\n"
     ]
    }
   ],
   "source": [
    "obj1.show()\n",
    "obj2.show()"
   ]
  },
  {
   "cell_type": "code",
   "execution_count": null,
   "id": "e38495d2-c9e8-440c-ba1a-5dfd23b5c54a",
   "metadata": {},
   "outputs": [],
   "source": []
  },
  {
   "cell_type": "code",
   "execution_count": null,
   "id": "d36f880d-9057-4e22-b2a1-48ea93bc261a",
   "metadata": {},
   "outputs": [],
   "source": []
  }
 ],
 "metadata": {
  "kernelspec": {
   "display_name": "Python 3 (ipykernel)",
   "language": "python",
   "name": "python3"
  },
  "language_info": {
   "codemirror_mode": {
    "name": "ipython",
    "version": 3
   },
   "file_extension": ".py",
   "mimetype": "text/x-python",
   "name": "python",
   "nbconvert_exporter": "python",
   "pygments_lexer": "ipython3",
   "version": "3.10.8"
  }
 },
 "nbformat": 4,
 "nbformat_minor": 5
}
