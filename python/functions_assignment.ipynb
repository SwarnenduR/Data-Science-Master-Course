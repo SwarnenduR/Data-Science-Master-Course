{
 "cells": [
  {
   "cell_type": "markdown",
   "id": "da9cb1de-8fff-4072-83c4-a73ccb21a1cb",
   "metadata": {},
   "source": [
    "## Question 1"
   ]
  },
  {
   "cell_type": "markdown",
   "id": "7fa9eb99-99eb-425a-acee-0b960365132f",
   "metadata": {},
   "source": [
    "### Which keyword is used to create a function?\n",
    "\n",
    "#### 'def' keyword is used to create a function"
   ]
  },
  {
   "cell_type": "code",
   "execution_count": 1,
   "id": "0e954f0c-294f-4668-bb8f-84b05f97bf85",
   "metadata": {},
   "outputs": [],
   "source": [
    "## Create a function to return a list of odd numbers in the range of 1 to 25.\n",
    "\n",
    "def odd_numbers():\n",
    "    lst = []\n",
    "    for i in range(1, 25):\n",
    "        if i % 2 != 0:\n",
    "            lst.append(i)\n",
    "    return lst"
   ]
  },
  {
   "cell_type": "code",
   "execution_count": 2,
   "id": "54984cdf-77ba-42b7-b655-47581e62de2f",
   "metadata": {},
   "outputs": [
    {
     "data": {
      "text/plain": [
       "[1, 3, 5, 7, 9, 11, 13, 15, 17, 19, 21, 23]"
      ]
     },
     "execution_count": 2,
     "metadata": {},
     "output_type": "execute_result"
    }
   ],
   "source": [
    "odd_numbers()"
   ]
  },
  {
   "cell_type": "markdown",
   "id": "fe589402-ec0c-47d8-956a-becb4a8c6506",
   "metadata": {},
   "source": [
    "## Question 2"
   ]
  },
  {
   "cell_type": "code",
   "execution_count": 3,
   "id": "5a39bfa7-775f-47ec-8372-b85c133c3b24",
   "metadata": {},
   "outputs": [],
   "source": [
    "### Why *args and **kwargs is used in some functions?\n",
    "\n",
    "#### *args in function definitions in python is used to pass a variable number of arguments to a function. whenever we are not sure about the number of arguments that can be passed to a function, we use *args which allow us to pass the variable number of non keyword arguments to function.\n",
    "#### Python passes variable length non keyword argument to function using *args but we cannot use this to pass keyword argument so **kwargs in function definitions in python is used to pass a keyworded, variable-length argument list."
   ]
  },
  {
   "cell_type": "code",
   "execution_count": 4,
   "id": "cace0c4f-0320-4b5e-b249-9b376a0804a5",
   "metadata": {},
   "outputs": [
    {
     "name": "stdout",
     "output_type": "stream",
     "text": [
      "Hello\n",
      "Welcome\n",
      "to\n",
      "PW Skills\n"
     ]
    }
   ],
   "source": [
    "## Example for *args\n",
    "def greetings(*args):\n",
    "\tfor arg in args:\n",
    "\t\tprint(arg)\n",
    "\n",
    "\n",
    "greetings('Hello', 'Welcome', 'to', 'PW Skills')"
   ]
  },
  {
   "cell_type": "code",
   "execution_count": 5,
   "id": "aa9e2600-38d2-4b74-8c3c-372fff89b87c",
   "metadata": {},
   "outputs": [
    {
     "data": {
      "text/plain": [
       "{'a': 23, 'b': 34, 'c': [123, 345, 567], 'd': (11, 22, 33, 55), 'e': {0, 1, 9}}"
      ]
     },
     "execution_count": 5,
     "metadata": {},
     "output_type": "execute_result"
    }
   ],
   "source": [
    "## this func can take any number of arguments in the form of dictionary - key value pair\n",
    "## Example of **kwargs\n",
    "def test(**kwargs):\n",
    "    return kwargs\n",
    "\n",
    "test(a = 23, b = 34, c = [123, 345, 567], d = (11, 22, 33, 55), e = {1, 0, 9})"
   ]
  },
  {
   "cell_type": "code",
   "execution_count": 6,
   "id": "b67caf41-ef00-4cdf-a3cb-fa1eb9b1ce24",
   "metadata": {},
   "outputs": [
    {
     "data": {
      "text/plain": [
       "(('Hello', 'Welcome', 'to', 'PW Skills'),\n",
       " {'a': 23,\n",
       "  'b': 34,\n",
       "  'c': [123, 345, 567],\n",
       "  'd': (11, 22, 33, 55),\n",
       "  'e': {0, 1, 9}})"
      ]
     },
     "execution_count": 6,
     "metadata": {},
     "output_type": "execute_result"
    }
   ],
   "source": [
    "def testBoth(*args, **kwargs):\n",
    "    return args, kwargs\n",
    "\n",
    "testBoth('Hello', 'Welcome', 'to', 'PW Skills', a = 23, b = 34, c = [123, 345, 567], d = (11, 22, 33, 55), e = {1, 0, 9})"
   ]
  },
  {
   "cell_type": "markdown",
   "id": "c7fa4eef-eb20-49ef-a3b8-4d40189ec7d4",
   "metadata": {},
   "source": [
    "## Question 3"
   ]
  },
  {
   "cell_type": "markdown",
   "id": "7915e69e-2536-480a-8601-c730d6654610",
   "metadata": {},
   "source": [
    "### What is an iterator in python?\n",
    "\n",
    "#### An iterator is an object that contains a countable number of values so that We can traverse through all the values.\n",
    "\n",
    "### Name the method used to initialise the iterator object and the method used for iteration.\n",
    "\n",
    "#### The iterator object is initialized using the iter() method. It uses the next() method for iteration."
   ]
  },
  {
   "cell_type": "code",
   "execution_count": 7,
   "id": "2e10358d-51e2-44cd-bb1f-5583a4cc3883",
   "metadata": {},
   "outputs": [
    {
     "name": "stdout",
     "output_type": "stream",
     "text": [
      "2\n",
      "4\n",
      "6\n",
      "8\n",
      "10\n"
     ]
    }
   ],
   "source": [
    "my_list = [2, 4, 6, 8, 10, 12, 14, 16, 18, 20]\n",
    "list1 = iter(my_list)\n",
    "print(next(list1))\n",
    "print(next(list1))\n",
    "print(next(list1))\n",
    "print(next(list1))\n",
    "print(next(list1))"
   ]
  },
  {
   "cell_type": "markdown",
   "id": "ae119eae-b138-4589-b088-bf2d96363fcc",
   "metadata": {},
   "source": [
    "## Question 4"
   ]
  },
  {
   "cell_type": "markdown",
   "id": "8ddd9578-408f-43c4-ba0b-9919ae11d157",
   "metadata": {},
   "source": [
    "### What is a generator function in python? Give an example of a generator function.\n",
    "\n",
    "#### A generator function is defined like a normal function, but whenever it needs to generate a value, it does so with the yield keyword rather than return. A type of function that is memory efficient and can be used like an iterator object.\n",
    "\n",
    "### Why yield keyword is used?\n",
    "#### yield keyword is used to create a generator function."
   ]
  },
  {
   "cell_type": "code",
   "execution_count": 8,
   "id": "2ad731ca-e7ac-4387-b33e-a3913a5b46d0",
   "metadata": {},
   "outputs": [
    {
     "data": {
      "text/plain": [
       "<generator object fibonacci at 0x7f1956309850>"
      ]
     },
     "execution_count": 8,
     "metadata": {},
     "output_type": "execute_result"
    }
   ],
   "source": [
    "## Example of a generator function\n",
    "\n",
    "def fibonacci(n):\n",
    "    a, b = 0, 1\n",
    "    for i in range(n):\n",
    "        yield a\n",
    "        a, b = b, a+b\n",
    "        \n",
    "fibonacci(10)"
   ]
  },
  {
   "cell_type": "code",
   "execution_count": 9,
   "id": "46e5c3d2-98a4-4ffb-9cbf-ca864861a44e",
   "metadata": {},
   "outputs": [
    {
     "name": "stdout",
     "output_type": "stream",
     "text": [
      "0\n",
      "1\n",
      "1\n",
      "2\n",
      "3\n",
      "5\n",
      "8\n",
      "13\n",
      "21\n",
      "34\n"
     ]
    }
   ],
   "source": [
    "for i in fibonacci(10):\n",
    "    print(i)"
   ]
  },
  {
   "cell_type": "markdown",
   "id": "049ac9ec-cb5c-42d2-8cc8-2b56d91283bd",
   "metadata": {},
   "source": [
    "## Question 5"
   ]
  },
  {
   "cell_type": "code",
   "execution_count": 10,
   "id": "077f1b02-f1f6-4ba7-a2a9-3d7460041b2c",
   "metadata": {},
   "outputs": [],
   "source": [
    "## Create a generator function for prime numbers less than 1000. Use the next() method to print the first 20 prime numbers.\n",
    "\n",
    "def getPrimes(n):\n",
    "    if n <= 2:\n",
    "        raise StopIteration\n",
    "    yield 2\n",
    "    if (n < 1000):\n",
    "        for i in range(3, n, 2):\n",
    "            for x in range(3, int(i**0.5)+2, 2):\n",
    "                if not i % x:\n",
    "                    break\n",
    "            else:\n",
    "                yield i"
   ]
  },
  {
   "cell_type": "code",
   "execution_count": 11,
   "id": "5e86ace1-31b9-4ebc-ad9c-3a9844a1a528",
   "metadata": {},
   "outputs": [
    {
     "data": {
      "text/plain": [
       "[2]"
      ]
     },
     "execution_count": 11,
     "metadata": {},
     "output_type": "execute_result"
    }
   ],
   "source": [
    "[x for x in getPrimes(1001)]"
   ]
  },
  {
   "cell_type": "code",
   "execution_count": 12,
   "id": "4ca235a1-69dc-4602-a8a2-b2a0ccd8315d",
   "metadata": {},
   "outputs": [
    {
     "data": {
      "text/plain": [
       "[2, 3, 5, 7, 11, 13, 17, 19]"
      ]
     },
     "execution_count": 12,
     "metadata": {},
     "output_type": "execute_result"
    }
   ],
   "source": [
    "[x for x in getPrimes(20)]"
   ]
  },
  {
   "cell_type": "code",
   "execution_count": null,
   "id": "14d64745-baa8-4c03-be17-86f86c770299",
   "metadata": {},
   "outputs": [],
   "source": []
  },
  {
   "cell_type": "code",
   "execution_count": null,
   "id": "2a24c10d-d516-4c3b-af45-9000fcf3980e",
   "metadata": {},
   "outputs": [],
   "source": []
  }
 ],
 "metadata": {
  "kernelspec": {
   "display_name": "Python 3 (ipykernel)",
   "language": "python",
   "name": "python3"
  },
  "language_info": {
   "codemirror_mode": {
    "name": "ipython",
    "version": 3
   },
   "file_extension": ".py",
   "mimetype": "text/x-python",
   "name": "python",
   "nbconvert_exporter": "python",
   "pygments_lexer": "ipython3",
   "version": "3.10.8"
  }
 },
 "nbformat": 4,
 "nbformat_minor": 5
}
