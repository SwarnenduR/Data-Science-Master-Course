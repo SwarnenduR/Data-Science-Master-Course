{
 "cells": [
  {
   "cell_type": "markdown",
   "id": "53a17cd7-6dae-4465-af9e-6e2941164f05",
   "metadata": {},
   "source": [
    "## Question 1"
   ]
  },
  {
   "cell_type": "code",
   "execution_count": 1,
   "id": "f4fdf52a-2702-4673-a179-240a72ca901c",
   "metadata": {},
   "outputs": [],
   "source": [
    "list1 = [1,2,3,4, [44,55,66, True], False, (34,56,78,89,34), {1,2,3,3,2,1}, {1: 34, \"key2\": [55, 67, 78, 89], 4: (45,\n",
    "22, 61, 34)}, [56, 'data science'], 'Machine Learning']"
   ]
  },
  {
   "cell_type": "code",
   "execution_count": 2,
   "id": "d2bfd78f-ce33-4419-9b20-338bb00f3cc7",
   "metadata": {},
   "outputs": [],
   "source": [
    "def product_numbers(lst):\n",
    "    prod = 1\n",
    "    flat_list = []\n",
    "    for i in list1:\n",
    "        if(type(i) == list or type(i) == tuple or type(i) == set):\n",
    "            for j in i:\n",
    "                flat_list.append(j)\n",
    "        elif (type(i) == dict):\n",
    "            for k in i.keys():\n",
    "                flat_list.append(k)\n",
    "            for d in i.values():\n",
    "                if(type(d) == list or type(d) == tuple):\n",
    "                    for c in d:\n",
    "                        flat_list.append(c)\n",
    "                else:\n",
    "                    flat_list.append(d)\n",
    "        else:\n",
    "            flat_list.append(i)\n",
    "    for x in flat_list:\n",
    "        if(type(x) == int):\n",
    "            prod = prod * x\n",
    "    return flat_list, prod"
   ]
  },
  {
   "cell_type": "code",
   "execution_count": 3,
   "id": "8ecb4ae7-a45a-40a1-8ebf-97a4b2c8dd92",
   "metadata": {},
   "outputs": [],
   "source": [
    "flat_list, product = product_numbers(list1)"
   ]
  },
  {
   "cell_type": "code",
   "execution_count": 4,
   "id": "c45d5253-ee49-4baf-8b19-e45b159508a5",
   "metadata": {},
   "outputs": [
    {
     "name": "stdout",
     "output_type": "stream",
     "text": [
      "Flat List [1, 2, 3, 4, 44, 55, 66, True, False, 34, 56, 78, 89, 34, 1, 2, 3, 1, 'key2', 4, 34, 55, 67, 78, 89, 45, 22, 61, 34, 56, 'data science', 'Machine Learning']\n",
      "Product of all numbers 4134711838987085478833841242112000\n"
     ]
    }
   ],
   "source": [
    "print(\"Flat List\", flat_list)\n",
    "print(\"Product of all numbers\", product)"
   ]
  },
  {
   "cell_type": "code",
   "execution_count": null,
   "id": "8184ce1d-587b-439d-a17a-87eec4bf7ccc",
   "metadata": {},
   "outputs": [],
   "source": []
  },
  {
   "cell_type": "markdown",
   "id": "e9aadbe7-a5a6-4c5d-bfdd-dcc3e002f375",
   "metadata": {},
   "source": [
    "## Question 2"
   ]
  },
  {
   "cell_type": "code",
   "execution_count": null,
   "id": "952034ab-5e3e-480c-b633-21341c69ebb3",
   "metadata": {},
   "outputs": [],
   "source": []
  },
  {
   "cell_type": "code",
   "execution_count": 5,
   "id": "d82afa28-b17d-49b3-8cfb-d1d26acfd10d",
   "metadata": {},
   "outputs": [
    {
     "name": "stdout",
     "output_type": "stream",
     "text": [
      "I want to become a Data Scientist.\n",
      "i$wznt$to$yexome$z$dztz$sxientist.\n"
     ]
    }
   ],
   "source": [
    "str0 = \"I want to become a Data Scientist.\"\n",
    "str1 = str0.lower()\n",
    "str2 = str1.replace(\"a\", \"z\")\n",
    "str3 = str2.replace(\"b\", \"y\")\n",
    "str4 = str3.replace(\"c\", \"x\")\n",
    "encrypted_str = str4.replace(\" \", \"$\")\n",
    "print(str0)\n",
    "print(encrypted_str)"
   ]
  },
  {
   "cell_type": "code",
   "execution_count": null,
   "id": "4f8ccd1f-e565-4f74-a1e4-ab417b91b122",
   "metadata": {},
   "outputs": [],
   "source": []
  }
 ],
 "metadata": {
  "kernelspec": {
   "display_name": "Python 3 (ipykernel)",
   "language": "python",
   "name": "python3"
  },
  "language_info": {
   "codemirror_mode": {
    "name": "ipython",
    "version": 3
   },
   "file_extension": ".py",
   "mimetype": "text/x-python",
   "name": "python",
   "nbconvert_exporter": "python",
   "pygments_lexer": "ipython3",
   "version": "3.10.8"
  }
 },
 "nbformat": 4,
 "nbformat_minor": 5
}
