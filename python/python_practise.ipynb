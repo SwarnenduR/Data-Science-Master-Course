{
 "cells": [
  {
   "cell_type": "code",
   "execution_count": 2,
   "id": "11f66d82",
   "metadata": {},
   "outputs": [
    {
     "ename": "NameError",
     "evalue": "name 'm' is not defined",
     "output_type": "error",
     "traceback": [
      "\u001b[0;31m---------------------------------------------------------------------------\u001b[0m",
      "\u001b[0;31mNameError\u001b[0m                                 Traceback (most recent call last)",
      "Cell \u001b[0;32mIn[2], line 5\u001b[0m\n\u001b[1;32m      3\u001b[0m nums1 \u001b[38;5;241m=\u001b[39m [\u001b[38;5;241m1\u001b[39m, \u001b[38;5;241m2\u001b[39m, \u001b[38;5;241m3\u001b[39m, \u001b[38;5;241m0\u001b[39m, \u001b[38;5;241m0\u001b[39m, \u001b[38;5;241m0\u001b[39m]\n\u001b[1;32m      4\u001b[0m nums2 \u001b[38;5;241m=\u001b[39m [\u001b[38;5;241m2\u001b[39m, \u001b[38;5;241m5\u001b[39m, \u001b[38;5;241m6\u001b[39m]\n\u001b[0;32m----> 5\u001b[0m k \u001b[38;5;241m=\u001b[39m m\u001b[38;5;241m+\u001b[39mn\u001b[38;5;241m-\u001b[39m\u001b[38;5;241m1\u001b[39m\n\u001b[1;32m      6\u001b[0m i, j \u001b[38;5;241m=\u001b[39m m\u001b[38;5;241m-\u001b[39m\u001b[38;5;241m1\u001b[39m, n\u001b[38;5;241m-\u001b[39m\u001b[38;5;241m1\u001b[39m\n\u001b[1;32m      8\u001b[0m \u001b[38;5;28;01mwhile\u001b[39;00m j\u001b[38;5;241m>\u001b[39m\u001b[38;5;241m=\u001b[39m\u001b[38;5;241m0\u001b[39m:\n",
      "\u001b[0;31mNameError\u001b[0m: name 'm' is not defined"
     ]
    }
   ],
   "source": [
    "## Merge sorted array\n",
    "\n",
    "nums1 = [1, 2, 3, 0, 0, 0]\n",
    "nums2 = [2, 5, 6]\n",
    "m = len(nums1 + nums2)\n",
    "n = len(nums2)\n",
    "k = m+n-1\n",
    "i, j = m-1, n-1\n",
    "\n",
    "while j>=0:\n",
    "    if(i >= 0 and nums1[i]>nums1[j]):\n",
    "        nums1[k] = nums1[i]\n",
    "        j -= 1\n",
    "    else:\n",
    "        nums1[k] = nums1[j]\n",
    "        i -= 1\n",
    "    k -= 1"
   ]
  },
  {
   "cell_type": "code",
   "execution_count": 6,
   "id": "25a64ff2",
   "metadata": {},
   "outputs": [],
   "source": [
    "def majorityElement(nums):\n",
    "    k = 0\n",
    "    num = 0\n",
    "    for i in nums:\n",
    "        if k == 0 or i > nums[k-1]:\n",
    "            num = i\n",
    "            print(\"result\", num)\n",
    "            k += 1\n",
    "    return num"
   ]
  },
  {
   "cell_type": "code",
   "execution_count": 7,
   "id": "b4475e2c",
   "metadata": {},
   "outputs": [
    {
     "name": "stdout",
     "output_type": "stream",
     "text": [
      "result 3\n"
     ]
    },
    {
     "data": {
      "text/plain": [
       "3"
      ]
     },
     "execution_count": 7,
     "metadata": {},
     "output_type": "execute_result"
    }
   ],
   "source": [
    "majorityElement([3, 2, 3])"
   ]
  },
  {
   "cell_type": "code",
   "execution_count": 8,
   "id": "c3a08c95",
   "metadata": {},
   "outputs": [
    {
     "name": "stdout",
     "output_type": "stream",
     "text": [
      "result 3\n",
      "result 4\n"
     ]
    },
    {
     "data": {
      "text/plain": [
       "4"
      ]
     },
     "execution_count": 8,
     "metadata": {},
     "output_type": "execute_result"
    }
   ],
   "source": [
    "majorityElement([3, 3, 4])"
   ]
  },
  {
   "cell_type": "code",
   "execution_count": 30,
   "id": "964c2b0b",
   "metadata": {},
   "outputs": [],
   "source": [
    "nums = [2,2,1,1,1,2,2]"
   ]
  },
  {
   "cell_type": "code",
   "execution_count": 31,
   "id": "0ef41c1f",
   "metadata": {},
   "outputs": [
    {
     "data": {
      "text/plain": [
       "2"
      ]
     },
     "execution_count": 31,
     "metadata": {},
     "output_type": "execute_result"
    }
   ],
   "source": [
    "max(nums)"
   ]
  },
  {
   "cell_type": "code",
   "execution_count": 32,
   "id": "698954c6",
   "metadata": {},
   "outputs": [
    {
     "name": "stdout",
     "output_type": "stream",
     "text": [
      "2\n"
     ]
    }
   ],
   "source": [
    "n = len(nums)\n",
    "num = 0\n",
    "for i in nums:\n",
    "    if nums.count(i) > n/2:\n",
    "        num = i\n",
    "print(num)"
   ]
  },
  {
   "cell_type": "code",
   "execution_count": 58,
   "id": "88bb9752",
   "metadata": {},
   "outputs": [
    {
     "name": "stdout",
     "output_type": "stream",
     "text": [
      "[1, 2, 3, 4, 7, 6, 7]\n"
     ]
    }
   ],
   "source": [
    "nums = [1,2,3,4,5,6,7]\n",
    "lst = []\n",
    "k = 0\n",
    "for i in range(len(nums)-1, len(nums)-4, -1):\n",
    "    nums[k-3] = nums[i]\n",
    "    k += 1\n",
    "print(nums)\n"
   ]
  },
  {
   "cell_type": "code",
   "execution_count": 46,
   "id": "8a5f716f",
   "metadata": {},
   "outputs": [],
   "source": [
    "ls[-1] = ls[len(ls)-1]"
   ]
  },
  {
   "cell_type": "code",
   "execution_count": 47,
   "id": "01a4d145",
   "metadata": {},
   "outputs": [
    {
     "data": {
      "text/plain": [
       "[1, 2, 3, 4, 5, 6, 7]"
      ]
     },
     "execution_count": 47,
     "metadata": {},
     "output_type": "execute_result"
    }
   ],
   "source": [
    "ls"
   ]
  },
  {
   "cell_type": "code",
   "execution_count": 53,
   "id": "5e98653a",
   "metadata": {},
   "outputs": [
    {
     "name": "stdout",
     "output_type": "stream",
     "text": [
      "5\n",
      "4\n"
     ]
    }
   ],
   "source": [
    "for i in range(5, 3, -1):\n",
    "    print(i)"
   ]
  },
  {
   "cell_type": "code",
   "execution_count": 72,
   "id": "be954ffe",
   "metadata": {},
   "outputs": [],
   "source": [
    "nums = [2,7,11,15]"
   ]
  },
  {
   "cell_type": "code",
   "execution_count": 77,
   "id": "60ef1df5",
   "metadata": {},
   "outputs": [],
   "source": [
    "nums = [3,2,4]"
   ]
  },
  {
   "cell_type": "code",
   "execution_count": 78,
   "id": "63962971",
   "metadata": {},
   "outputs": [],
   "source": [
    "target = 6\n",
    "k = 1\n",
    "for i in range(0, len(nums)-2):\n",
    "    if nums[i]+nums[k] == target:\n",
    "        k += 1\n",
    "        print(i, i+1)"
   ]
  },
  {
   "cell_type": "code",
   "execution_count": 98,
   "id": "3b213d04",
   "metadata": {},
   "outputs": [],
   "source": [
    "def twoSum(nums):\n",
    "    m = {}\n",
    "    for i, x in enumerate(nums):\n",
    "        y = target - x\n",
    "        if y in m:\n",
    "            return [m[y], i]\n",
    "        m[x] = i"
   ]
  },
  {
   "cell_type": "code",
   "execution_count": 99,
   "id": "9aff17be",
   "metadata": {},
   "outputs": [
    {
     "data": {
      "text/plain": [
       "[0, 1]"
      ]
     },
     "execution_count": 99,
     "metadata": {},
     "output_type": "execute_result"
    }
   ],
   "source": [
    "nums = [2,7,11,15]\n",
    "target = 9\n",
    "twoSum(nums)"
   ]
  },
  {
   "cell_type": "code",
   "execution_count": 91,
   "id": "841b97dc",
   "metadata": {},
   "outputs": [
    {
     "name": "stdout",
     "output_type": "stream",
     "text": [
      "0\n",
      "1\n"
     ]
    },
    {
     "data": {
      "text/plain": [
       "[1, 2]"
      ]
     },
     "execution_count": 91,
     "metadata": {},
     "output_type": "execute_result"
    }
   ],
   "source": [
    "nums = [3,2,4]\n",
    "target = 6\n",
    "twoSum(nums)"
   ]
  },
  {
   "cell_type": "code",
   "execution_count": 92,
   "id": "2af491dd",
   "metadata": {},
   "outputs": [
    {
     "name": "stdout",
     "output_type": "stream",
     "text": [
      "0 2\n",
      "1 7\n",
      "2 11\n",
      "3 15\n"
     ]
    }
   ],
   "source": [
    "nums = [2,7,11,15]\n",
    "for i, x in enumerate(nums):\n",
    "    print(i, x)"
   ]
  },
  {
   "cell_type": "code",
   "execution_count": 4,
   "id": "fb423e77",
   "metadata": {},
   "outputs": [],
   "source": [
    "str1 = \"abcabcbb\"\n",
    "\n",
    "start = 0\n",
    "end = 0\n",
    "max_len = 0\n",
    "s = set()\n",
    "\n",
    "while end < len(str1):\n",
    "    if str1[end] not in s:\n",
    "        s.add(str1[end])\n",
    "        max_len = max(max_len, end-start+1)\n",
    "        end += 1\n",
    "    else:\n",
    "        s.remove(str1[start])\n",
    "        start += 1"
   ]
  },
  {
   "cell_type": "code",
   "execution_count": 5,
   "id": "2072e9f9",
   "metadata": {},
   "outputs": [
    {
     "data": {
      "text/plain": [
       "3"
      ]
     },
     "execution_count": 5,
     "metadata": {},
     "output_type": "execute_result"
    }
   ],
   "source": [
    "max_len"
   ]
  },
  {
   "cell_type": "code",
   "execution_count": null,
   "id": "f7683818",
   "metadata": {},
   "outputs": [],
   "source": []
  }
 ],
 "metadata": {
  "kernelspec": {
   "display_name": "Python 3 (ipykernel)",
   "language": "python",
   "name": "python3"
  },
  "language_info": {
   "codemirror_mode": {
    "name": "ipython",
    "version": 3
   },
   "file_extension": ".py",
   "mimetype": "text/x-python",
   "name": "python",
   "nbconvert_exporter": "python",
   "pygments_lexer": "ipython3",
   "version": "3.11.5"
  }
 },
 "nbformat": 4,
 "nbformat_minor": 5
}
