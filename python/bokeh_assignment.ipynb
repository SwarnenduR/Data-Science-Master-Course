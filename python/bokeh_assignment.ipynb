{
 "cells": [
  {
   "cell_type": "markdown",
   "id": "743b8fad-6845-41a6-b71b-8d80e27a0b35",
   "metadata": {},
   "source": [
    "## Bokeh"
   ]
  },
  {
   "cell_type": "markdown",
   "id": "c05f3f92-1fc8-46c0-864e-58dd0c82a147",
   "metadata": {},
   "source": [
    "## Question 1"
   ]
  },
  {
   "cell_type": "markdown",
   "id": "5262a5d4-aebe-48ce-ae08-2e741852b638",
   "metadata": {},
   "source": [
    "### How can you create a Bokeh plot using Python code?\n",
    "\n",
    "#### Bokeh is a Python library which is used for data visualization through high-performance interactive charts and plots.\n",
    "#### For example\n",
    "```\n",
    "# First, we will import the required modules  \n",
    "from bokeh.plotting import figure as fig  \n",
    "from bokeh.plotting import output_notebook as ON  \n",
    "from bokeh.plotting import show  \n",
    "    \n",
    "# output to the notebook  \n",
    "ON()  \n",
    "    \n",
    "# creating figure  \n",
    "plot1 = fig(plot_width = 500, plot_height = 500, title = \"Scatter Markers\")  \n",
    "    \n",
    "# adding a circle renderer with size, color and alpha  \n",
    "plot1.circle([1, 2, 3, 4, 5, 6], [2, 1, 6, 8, 0],   \n",
    "         size = 12, color = \"green\", alpha = 1)  \n",
    "    \n",
    "# show the results  \n",
    "show(plot1)\n",
    "```"
   ]
  },
  {
   "cell_type": "markdown",
   "id": "060c3d9f-f726-42bf-bf18-da8f3a51b894",
   "metadata": {},
   "source": [
    "## Question 2"
   ]
  },
  {
   "cell_type": "markdown",
   "id": "66964bdf-e24e-48df-a4b4-2fdb437920a0",
   "metadata": {},
   "source": [
    "### What are glyphs in Bokeh, and how can you add them to a Bokeh plot?\n",
    "#### Usually, a plot consists of geometric shapes either in the form of a line, circle, etc. So, Glyphs are nothing but visual shapes that are drawn to represent the data such as circles, squares, lines, rectangles, etc.\n",
    "#### Creating a basic line chart: The line chart displays the visualization of x and y-axis points movements in the form of a line. To draw a line glyph to the figure, we use the line() method of the figure object.\n",
    "```\n",
    "# import the libraries\n",
    "from bokeh.plotting import figure, show, output_file\n",
    "\n",
    "# prepare some data\n",
    "a = [1, 2, 3, 4, 5, 6, 7, 8, 9, 10]\n",
    "b = [2, 4, 6, 8, 10, 12, 14, 16, 18, 20]\n",
    "\n",
    "# create a plot using figure\n",
    "my_plot = figure(title=\"simple line chart\", x_axis_label=\"X-Axis\",\n",
    "\t\t\t\ty_axis_label=\"Y-Axis\")\n",
    "\n",
    "# adding line graph\n",
    "my_plot.line(a, b, line_width=3)\n",
    "\n",
    "# display output in file\n",
    "output_file(\"line.html\")\n",
    "\n",
    "# show the result\n",
    "show(my_plot)\n",
    "```"
   ]
  },
  {
   "cell_type": "markdown",
   "id": "c587536d-9301-4fa1-a673-b43b81b13580",
   "metadata": {},
   "source": [
    "## Question 3"
   ]
  },
  {
   "cell_type": "markdown",
   "id": "d1291084-eb62-4afa-b27e-362882ed91d3",
   "metadata": {},
   "source": [
    "### How can you customize the appearance of a Bokeh plot, including the axes, title, and legend?\n",
    "#### The appearance of Bokeh plots can be customized in different ways. It includes resizing the plot, changing its lines and colors, and customizing the axes and tools etc.\n",
    "#### Axes: We can set various attributes to change the way the axes in the plot work and look. Setting the axes appearance options for customizing the appearance of the plot include:\n",
    "1. setting labels for the axes\n",
    "2. styling the numbers displayed with the axes\n",
    "3. defining colors and other layout properties for the axes themselves\n",
    "#### Titles: Use Title annotations to add descriptive text which is rendered around the edges of a plot. If we use the bokeh.plotting interface, the quickest way to add a basic title is to pass the text as the title parameter to Figure.\n",
    "#### Legend: Bokeh automatically adds a legend to our plot if we include the legend_label attribute when calling the renderer function. This adds a legend with the entry “Objects” to our plot. We can use the properties of the Legend object to customize the legend."
   ]
  },
  {
   "cell_type": "markdown",
   "id": "4e460c11-53d5-487e-8d31-98cbcd300c68",
   "metadata": {},
   "source": [
    "## Question 4"
   ]
  },
  {
   "cell_type": "markdown",
   "id": "a8e35b58-6dfd-4461-a6f9-911f302c1a57",
   "metadata": {},
   "source": [
    "### What is a Bokeh server, and how can you use it to create interactive plots that can be updated in real time?\n",
    "#### Bokeh server makes it easy to create interactive web applications that connect front-end UI events to running Python code. Bokeh creates high-level Python models, such as plots, ranges, axes, and glyphs, and then converts these objects to JSON to pass them to its client library, BokehJS. keeping these models in sync between the Python environment and the browser would provide further powerful capabilities: respond to UI and tool events in the browser with computations or queries using the full power of Pythonautomatically push server-side updates to the UI elements such as widgets or plots in the browser use periodic, timeout, and asynchronous callbacks to drive streaming updates This is where the Bokeh server comes into play: The primary purpose of the Bokeh server is to synchronize data between the underlying Python environment and the BokehJS library running in the browser."
   ]
  },
  {
   "cell_type": "markdown",
   "id": "f96e5671-c165-4c14-8ebd-17b4830f0f13",
   "metadata": {},
   "source": [
    "## Question 5"
   ]
  },
  {
   "cell_type": "markdown",
   "id": "234c9739-f5d0-4d61-98cc-fdbbb51e9c49",
   "metadata": {},
   "source": [
    "### How can you embed a Bokeh plot into a web page or dashboard using Flask or Django?\n",
    "#### Bokeh is an interactive visualization library that helps us to create a visual representation of data set and interact with it. We can create various types of visualizations such as bar charts, horizontal plots,time-series, etc. There are various methods to include Bokeh apps and widgets into web apps and pages. For an example We can create a basic bokeh graph and embed it into our Django web app. For that, we will be importing components from bokeh.embed which returns the individual components. The function bokeh.embed.components() returns a script that contains that data for our plot with `<div>` tag in which the plot view is loaded."
   ]
  },
  {
   "cell_type": "code",
   "execution_count": null,
   "id": "1bff5ba0-eba2-498c-a680-094fcdec6e20",
   "metadata": {},
   "outputs": [],
   "source": []
  },
  {
   "cell_type": "code",
   "execution_count": null,
   "id": "68da3df0-17c0-4a1f-939c-713d969ebb1e",
   "metadata": {},
   "outputs": [],
   "source": []
  }
 ],
 "metadata": {
  "kernelspec": {
   "display_name": "Python 3 (ipykernel)",
   "language": "python",
   "name": "python3"
  },
  "language_info": {
   "codemirror_mode": {
    "name": "ipython",
    "version": 3
   },
   "file_extension": ".py",
   "mimetype": "text/x-python",
   "name": "python",
   "nbconvert_exporter": "python",
   "pygments_lexer": "ipython3",
   "version": "3.10.8"
  }
 },
 "nbformat": 4,
 "nbformat_minor": 5
}
