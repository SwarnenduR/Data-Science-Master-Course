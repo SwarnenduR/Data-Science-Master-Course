{
 "cells": [
  {
   "cell_type": "markdown",
   "id": "e3dc1bb7-c6ed-4fb4-80b5-f051ee9f4ac0",
   "metadata": {},
   "source": [
    "## Exception Handling"
   ]
  },
  {
   "cell_type": "markdown",
   "id": "2c020a9d-5118-4396-bd10-cb86b395200e",
   "metadata": {},
   "source": [
    "## Question 1"
   ]
  },
  {
   "cell_type": "markdown",
   "id": "18ecd0ee-4270-4b98-85f8-84466d762f27",
   "metadata": {},
   "source": [
    "### What is Exception in python\n",
    "\n",
    "#### An exception is an event which occurs during the execution of a program that disrupts the normal flow of the program's instructions. In general when a Python script encounters a situation that it cannot cope with, it raises an exception. An exception is a Python object that represents an error.\n",
    "\n",
    "### Write the difference between Exceptions and syntax errors\n",
    "\n",
    "#### Errors are the problems in a program due to which the program will stop the execution. On the other hand, exceptions are raised when some internal events occur which changes the normal flow of the program."
   ]
  },
  {
   "cell_type": "markdown",
   "id": "031e2d5b-7274-4de4-bc00-0a7d1e39f49f",
   "metadata": {},
   "source": [
    "## Question 2"
   ]
  },
  {
   "cell_type": "markdown",
   "id": "26b5fe43-f2a5-445f-8d5a-88ad18b0a8e4",
   "metadata": {},
   "source": [
    "### What happens when an exception is not handled? Explain with an example.\n",
    "\n",
    "#### Exception handling allows us to separate suspicious code or error handling code from normal code. As with code comments, exceptions helps us to remind ourselves of what the program expects. If we not handled it properly, program terminates as soon as it encounters an error and we will never know what happen to the actual fow of the code. It's also difficult to understand the code without having proper message to the error."
   ]
  },
  {
   "cell_type": "code",
   "execution_count": 1,
   "id": "147b538c-d893-470c-831f-b76e0b3ec339",
   "metadata": {},
   "outputs": [
    {
     "ename": "ValueError",
     "evalue": "invalid literal for int() with base 10: 'Swarnendu'",
     "output_type": "error",
     "traceback": [
      "\u001b[0;31m---------------------------------------------------------------------------\u001b[0m",
      "\u001b[0;31mValueError\u001b[0m                                Traceback (most recent call last)",
      "Cell \u001b[0;32mIn[1], line 3\u001b[0m\n\u001b[1;32m      1\u001b[0m \u001b[38;5;66;03m## let's just say our end goal for this code to excute the 2nd print statement.\u001b[39;00m\n\u001b[1;32m      2\u001b[0m \u001b[38;5;66;03m## In this case there is no exception handled explicitely so seeing the error we need to find out the issue in the code and have to try to fix to achieve the end goal.\u001b[39;00m\n\u001b[0;32m----> 3\u001b[0m a \u001b[38;5;241m=\u001b[39m \u001b[38;5;28;43mint\u001b[39;49m\u001b[43m(\u001b[49m\u001b[38;5;124;43m\"\u001b[39;49m\u001b[38;5;124;43mSwarnendu\u001b[39;49m\u001b[38;5;124;43m\"\u001b[39;49m\u001b[43m)\u001b[49m\n\u001b[1;32m      4\u001b[0m \u001b[38;5;28mprint\u001b[39m(a)\n\u001b[1;32m      5\u001b[0m \u001b[38;5;28mprint\u001b[39m(\u001b[38;5;124m\"\u001b[39m\u001b[38;5;124mThis is just an example without exception\u001b[39m\u001b[38;5;124m\"\u001b[39m)\n",
      "\u001b[0;31mValueError\u001b[0m: invalid literal for int() with base 10: 'Swarnendu'"
     ]
    }
   ],
   "source": [
    "## let's just say our end goal for this code to excute the 2nd print statement.\n",
    "## In this case there is no exception handled explicitely so seeing the error we need to find out the issue in the code and have to try to fix to achieve the end goal.\n",
    "a = int(\"Swarnendu\")\n",
    "print(a)\n",
    "print(\"This is just an example without exception\")"
   ]
  },
  {
   "cell_type": "code",
   "execution_count": 2,
   "id": "927a8f49-ba95-45b2-92b8-5c4997bdde23",
   "metadata": {},
   "outputs": [
    {
     "name": "stdout",
     "output_type": "stream",
     "text": [
      "This will create an error of invalid literal for int\n",
      "This is just an example with exception\n"
     ]
    }
   ],
   "source": [
    "## In this case we can achieve the end goal with handling the exception explicitely.\n",
    "try:\n",
    "    a = int(\"Swarnendu\")\n",
    "except:\n",
    "    print(\"This will create an error of invalid literal for int\")\n",
    "finally:\n",
    "    print(\"This is just an example with exception\")"
   ]
  },
  {
   "cell_type": "markdown",
   "id": "08c324dd-780d-42be-8741-46d3b99e0682",
   "metadata": {},
   "source": [
    "## Question 3"
   ]
  },
  {
   "cell_type": "markdown",
   "id": "40f087f9-0197-41a5-9d57-38c895bf2685",
   "metadata": {},
   "source": [
    "### Which python statements are used to catch and handle exceptions?\n",
    "\n",
    "#### To catch and handle exception in python we use `try` and `except` block generally and along with that we have a flexibility of using `else` and `finally` block to handle the exception."
   ]
  },
  {
   "cell_type": "code",
   "execution_count": 3,
   "id": "25125c52-7e51-42b7-b08a-d95b8bcbe01c",
   "metadata": {},
   "outputs": [
    {
     "name": "stdout",
     "output_type": "stream",
     "text": [
      "there is no file exsits in this name [Errno 2] No such file or directory: 'exception_test1.txt'\n",
      "Finally block will always excute no matter what happend to other block\n"
     ]
    }
   ],
   "source": [
    "## Example\n",
    "\n",
    "try:\n",
    "    f = open(\"exception_test1.txt\", \"r\")\n",
    "    f.write(\"This is my 1st exception assignment\")\n",
    "except Exception as e:\n",
    "    print(\"there is no file exsits in this name\", e)\n",
    "else:\n",
    "    f.close()\n",
    "    print(\"this block will exute once try will excute itself without an exception\")\n",
    "finally:\n",
    "    print(\"Finally block will always excute no matter what happend to other block\")"
   ]
  },
  {
   "cell_type": "markdown",
   "id": "c827d54b-3962-4f6c-b9d5-918fabf61ad1",
   "metadata": {},
   "source": [
    "## Question 4"
   ]
  },
  {
   "cell_type": "code",
   "execution_count": 4,
   "id": "244a4aef-0ec9-4208-a334-76ae5ea80dd2",
   "metadata": {},
   "outputs": [
    {
     "name": "stdout",
     "output_type": "stream",
     "text": [
      "this block will exute once try will excute itself without an exception\n"
     ]
    }
   ],
   "source": [
    "## try and else\n",
    "\n",
    "try:\n",
    "    a = 0 / 10\n",
    "except Exception as e:\n",
    "    print(\"there is some issue with my code\", e)\n",
    "else:\n",
    "    print(\"this block will exute once try will excute itself without an exception\")"
   ]
  },
  {
   "cell_type": "code",
   "execution_count": 5,
   "id": "f78ab214-9b82-4093-be81-39c9f34cf3c8",
   "metadata": {},
   "outputs": [
    {
     "name": "stdout",
     "output_type": "stream",
     "text": [
      "there is no file exsits in this name [Errno 2] No such file or directory: 'exception_test1.txt'\n",
      "Finally block will always excute no matter what happend to other block\n"
     ]
    }
   ],
   "source": [
    "## finally\n",
    "\n",
    "try:\n",
    "    f = open(\"exception_test1.txt\", \"r\")\n",
    "    f.write(\"This is my 1st exception assignment\")\n",
    "except Exception as e:\n",
    "    print(\"there is no file exsits in this name\", e)\n",
    "else:\n",
    "    f.close()\n",
    "    print(\"this block will exute once try will excute itself without an exception\")\n",
    "finally:\n",
    "    print(\"Finally block will always excute no matter what happend to other block\")"
   ]
  },
  {
   "cell_type": "code",
   "execution_count": 6,
   "id": "04615fe2-4bf7-4953-9650-55322eb0ae07",
   "metadata": {},
   "outputs": [
    {
     "name": "stdout",
     "output_type": "stream",
     "text": [
      "An exception\n"
     ]
    },
    {
     "ename": "NameError",
     "evalue": "Hi there",
     "output_type": "error",
     "traceback": [
      "\u001b[0;31m---------------------------------------------------------------------------\u001b[0m",
      "\u001b[0;31mNameError\u001b[0m                                 Traceback (most recent call last)",
      "Cell \u001b[0;32mIn[6], line 4\u001b[0m\n\u001b[1;32m      1\u001b[0m \u001b[38;5;66;03m## raise\u001b[39;00m\n\u001b[1;32m      3\u001b[0m \u001b[38;5;28;01mtry\u001b[39;00m:\n\u001b[0;32m----> 4\u001b[0m \t\u001b[38;5;28;01mraise\u001b[39;00m \u001b[38;5;167;01mNameError\u001b[39;00m(\u001b[38;5;124m\"\u001b[39m\u001b[38;5;124mHi there\u001b[39m\u001b[38;5;124m\"\u001b[39m) \u001b[38;5;66;03m# Raise Error\u001b[39;00m\n\u001b[1;32m      5\u001b[0m \u001b[38;5;28;01mexcept\u001b[39;00m \u001b[38;5;167;01mNameError\u001b[39;00m:\n\u001b[1;32m      6\u001b[0m \t\u001b[38;5;28mprint\u001b[39m (\u001b[38;5;124m\"\u001b[39m\u001b[38;5;124mAn exception\u001b[39m\u001b[38;5;124m\"\u001b[39m)\n",
      "\u001b[0;31mNameError\u001b[0m: Hi there"
     ]
    }
   ],
   "source": [
    "## raise\n",
    "\n",
    "try:\n",
    "\traise NameError(\"Hi there\") # Raise Error\n",
    "except NameError:\n",
    "\tprint (\"An exception\")\n",
    "\traise # To determine whether the exception was raised or not"
   ]
  },
  {
   "cell_type": "markdown",
   "id": "c2421bc1-2ff1-417f-8b90-32c2be5c1aac",
   "metadata": {},
   "source": [
    "## Question 5"
   ]
  },
  {
   "cell_type": "markdown",
   "id": "068e6e22-90ab-4011-99fe-08350918febb",
   "metadata": {},
   "source": [
    "### What is custom exceptions in python? Why do we need custom exceptions?\n",
    "\n",
    "#### Python throws errors and exceptions when the code goes wrong, which may cause the program to stop abruptly. In Python, we can define custom exceptions by creating a new class that is derived from the built-in Exception class.\n",
    "#### However, sometimes we may need to create our own custom exceptions that serve our purpose."
   ]
  },
  {
   "cell_type": "markdown",
   "id": "26dd9e22-4a8a-4931-aa89-7e7dbb89c3fc",
   "metadata": {},
   "source": [
    "## Question 6"
   ]
  },
  {
   "cell_type": "code",
   "execution_count": 7,
   "id": "90ffcf07-55b0-49aa-aa26-78c6a25e96e0",
   "metadata": {},
   "outputs": [],
   "source": [
    "class validateage(Exception):\n",
    "    def __init__(self, msg):\n",
    "        self.msg = msg\n",
    "        \n",
    "def validate_age(age):\n",
    "    if age < 0:\n",
    "        raise validateage(\"age should not be negative\")\n",
    "    elif age > 120:\n",
    "        raise validateage(\"age is too much\")\n",
    "    else:\n",
    "        print(\"valid age\")"
   ]
  },
  {
   "cell_type": "code",
   "execution_count": 8,
   "id": "fec7e64f-d49f-48a6-8cda-23d4595f0735",
   "metadata": {},
   "outputs": [
    {
     "name": "stdin",
     "output_type": "stream",
     "text": [
      "Enter your age 23\n"
     ]
    },
    {
     "name": "stdout",
     "output_type": "stream",
     "text": [
      "valid age\n"
     ]
    }
   ],
   "source": [
    "try:\n",
    "    age = int(input(\"Enter your age\"))\n",
    "    validate_age(age)\n",
    "except validateage as e:\n",
    "    print(e)"
   ]
  },
  {
   "cell_type": "code",
   "execution_count": null,
   "id": "7c649bfa-f00c-4b20-a2db-5e6f9e2a840c",
   "metadata": {},
   "outputs": [],
   "source": []
  },
  {
   "cell_type": "code",
   "execution_count": null,
   "id": "52549654-9909-4060-8a9b-d19c83b19dc4",
   "metadata": {},
   "outputs": [],
   "source": []
  }
 ],
 "metadata": {
  "kernelspec": {
   "display_name": "Python 3 (ipykernel)",
   "language": "python",
   "name": "python3"
  },
  "language_info": {
   "codemirror_mode": {
    "name": "ipython",
    "version": 3
   },
   "file_extension": ".py",
   "mimetype": "text/x-python",
   "name": "python",
   "nbconvert_exporter": "python",
   "pygments_lexer": "ipython3",
   "version": "3.10.8"
  }
 },
 "nbformat": 4,
 "nbformat_minor": 5
}
