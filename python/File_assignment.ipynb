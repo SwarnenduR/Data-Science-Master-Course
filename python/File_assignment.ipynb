{
 "cells": [
  {
   "cell_type": "markdown",
   "id": "5e09f75d-6fe4-4e21-aa5f-9bc8e5bf9637",
   "metadata": {},
   "source": [
    "## File task"
   ]
  },
  {
   "cell_type": "markdown",
   "id": "f86d7221-9b5f-464c-93a3-985a925664d4",
   "metadata": {},
   "source": [
    "## Question 1"
   ]
  },
  {
   "cell_type": "markdown",
   "id": "57ea226d-64e9-412c-bd5b-825e05603990",
   "metadata": {},
   "source": [
    "### Which function is used to open a file? What are the different modes of opening a file? Explain each mode of file opening.\n",
    "#### 'open()' function used to open a file.\n",
    "\n",
    "#### 'r'       open for reading (default)\n",
    "#### 'w'       open for writing, truncating the file first\n",
    "#### 'x'       create a new file and open it for writing\n",
    "#### 'a'       open for writing, appending to the end of the file if it exists\n",
    "#### 'b'       binary mode\n",
    "#### 't'       text mode (default)\n",
    "#### '+'       open a disk file for updating (reading and writing)\n",
    "#### 'U'       universal newline mode (deprecated)"
   ]
  },
  {
   "cell_type": "markdown",
   "id": "624eda3e-2e1b-47c7-9d0c-eb7151a44717",
   "metadata": {},
   "source": [
    "## Question 2"
   ]
  },
  {
   "cell_type": "markdown",
   "id": "d52502fb-db55-47a3-be3d-909268fb56aa",
   "metadata": {},
   "source": [
    "### Why close() function is used? \n",
    "#### The close() function is used to close an open file.\n",
    "\n",
    "### Why is it important to close a file?\n",
    "#### We should always close our files because in some cases due to buffering, changes made to a file may not show until you close the file."
   ]
  },
  {
   "cell_type": "markdown",
   "id": "bed05ee6-2bf4-4473-9811-683827575d7d",
   "metadata": {},
   "source": [
    "## Question 3"
   ]
  },
  {
   "cell_type": "code",
   "execution_count": 1,
   "id": "e7e01278-464a-4e59-ae97-d014d4b5a40a",
   "metadata": {},
   "outputs": [
    {
     "data": {
      "text/plain": [
       "'I want to become a Data Scientist'"
      ]
     },
     "execution_count": 1,
     "metadata": {},
     "output_type": "execute_result"
    }
   ],
   "source": [
    "## Write a python program to create a text file. Write ‘I want to become a Data Scientist’ in that file. Then close the file. Open this file and read the content of the file.\n",
    "\n",
    "f = open(\"file_assignment.txt\", \"w\")\n",
    "f.write(\"I want to become a Data Scientist\")\n",
    "f.close()\n",
    "data = open(\"file_assignment.txt\", \"r\")\n",
    "data.read()"
   ]
  },
  {
   "cell_type": "markdown",
   "id": "fe942e83-8a5e-4ec6-9b68-323fbd85442f",
   "metadata": {},
   "source": [
    "## Question 4"
   ]
  },
  {
   "cell_type": "code",
   "execution_count": 2,
   "id": "03ef081d-3f79-410a-ac3a-17d042e08ab6",
   "metadata": {},
   "outputs": [],
   "source": [
    "## Explain the following with python code: read(), readline() and readlines().\n",
    "\n",
    "## In the above example of file creation and reading the data from the fiel, I have used read() function\n",
    "f = open(\"file_assignment.txt\", \"w\")\n",
    "f.write(\"I want to become a Data Scientist\\n\")\n",
    "f.write(\"I think I am in right track\\n\")\n",
    "f.write(\"Let's see what happen in the last\")\n",
    "f.close()"
   ]
  },
  {
   "cell_type": "code",
   "execution_count": 3,
   "id": "cbed4419-f1fa-4730-a1df-e7fb023afd08",
   "metadata": {},
   "outputs": [
    {
     "data": {
      "text/plain": [
       "\"I want to become a Data Scientist\\nI think I am in right track\\nLet's see what happen in the last\""
      ]
     },
     "execution_count": 3,
     "metadata": {},
     "output_type": "execute_result"
    }
   ],
   "source": [
    "## read() method returns the specified number of bytes from the file. Default is -1 which means the whole file.\n",
    "\n",
    "data = open(\"file_assignment.txt\", \"r\")\n",
    "data.read()"
   ]
  },
  {
   "cell_type": "code",
   "execution_count": 4,
   "id": "b099fb8d-591e-4d7e-9190-ae9266ea2c28",
   "metadata": {},
   "outputs": [
    {
     "data": {
      "text/plain": [
       "'I want to become a Data Scientist\\n'"
      ]
     },
     "execution_count": 4,
     "metadata": {},
     "output_type": "execute_result"
    }
   ],
   "source": [
    "## readline() method will return a line from the file when called.\n",
    "\n",
    "data.seek(0)\n",
    "data.readline()"
   ]
  },
  {
   "cell_type": "code",
   "execution_count": 5,
   "id": "e532acbe-97cc-4ce0-86cf-ab037219ce01",
   "metadata": {},
   "outputs": [
    {
     "data": {
      "text/plain": [
       "['I want to become a Data Scientist\\n',\n",
       " 'I think I am in right track\\n',\n",
       " \"Let's see what happen in the last\"]"
      ]
     },
     "execution_count": 5,
     "metadata": {},
     "output_type": "execute_result"
    }
   ],
   "source": [
    "## readlines() method will return all the lines in a file in the format of a list where each element is a line in the file.\n",
    "\n",
    "data.seek(0)\n",
    "data.readlines()"
   ]
  },
  {
   "cell_type": "markdown",
   "id": "e0d5db2e-a5b7-48c2-a0b9-6e72835430a8",
   "metadata": {},
   "source": [
    "## Question 5"
   ]
  },
  {
   "cell_type": "markdown",
   "id": "0f286d39-9964-49e8-b4d3-7b12278ea824",
   "metadata": {},
   "source": [
    "### Explain why with statement is used with open(). What is the advantage of using with statement and open() together?\n",
    "#### The with statement works with the open() function to open a file. Unlike open() where we have to close the file with the close() method, the with statement closes the file for us implicitely. This is because the with statement calls 2 built-in methods behind the scene – __enter()__ and __exit()__ ."
   ]
  },
  {
   "cell_type": "markdown",
   "id": "855e2c8b-0cd3-4652-ad20-cb48df737424",
   "metadata": {},
   "source": [
    "## Question 6"
   ]
  },
  {
   "cell_type": "markdown",
   "id": "9795fb6b-f29e-4782-a297-69e21370db49",
   "metadata": {},
   "source": [
    "### Explain the write() and writelines() functions.\n",
    "#### write() is used to write a string to an already opened file and writelines() method is used to write a list of strings in an opened file."
   ]
  },
  {
   "cell_type": "code",
   "execution_count": 6,
   "id": "ef656d0c-8e78-4fb8-8f1d-1668c30cf0d2",
   "metadata": {},
   "outputs": [
    {
     "data": {
      "text/plain": [
       "'Full-stack Developer Data Analyst Business Analyst Data Engineer ML Engineer Data Scientist'"
      ]
     },
     "execution_count": 6,
     "metadata": {},
     "output_type": "execute_result"
    }
   ],
   "source": [
    "## Example\n",
    "\n",
    "f = open(\"file_assignment1.txt\", \"w\")\n",
    "f.writelines([\"Full-stack Developer \", \"Data Analyst \", \"Business Analyst \", \"Data Engineer \", \"ML Engineer \", \"Data Scientist\"])\n",
    "f.close()\n",
    "data = open(\"file_assignment1.txt\", \"r\")\n",
    "data.read()"
   ]
  },
  {
   "cell_type": "code",
   "execution_count": null,
   "id": "973301a5-3ed2-494c-b5fe-463fd7e30631",
   "metadata": {},
   "outputs": [],
   "source": []
  },
  {
   "cell_type": "code",
   "execution_count": null,
   "id": "457bcdff-6873-4577-947a-7d8ac304a577",
   "metadata": {},
   "outputs": [],
   "source": []
  }
 ],
 "metadata": {
  "kernelspec": {
   "display_name": "Python 3 (ipykernel)",
   "language": "python",
   "name": "python3"
  },
  "language_info": {
   "codemirror_mode": {
    "name": "ipython",
    "version": 3
   },
   "file_extension": ".py",
   "mimetype": "text/x-python",
   "name": "python",
   "nbconvert_exporter": "python",
   "pygments_lexer": "ipython3",
   "version": "3.10.8"
  }
 },
 "nbformat": 4,
 "nbformat_minor": 5
}
