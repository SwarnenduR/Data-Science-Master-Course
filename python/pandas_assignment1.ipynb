{
 "cells": [
  {
   "cell_type": "markdown",
   "id": "4d895578-0a00-46ea-8e29-b41f0a19f6d7",
   "metadata": {},
   "source": [
    "## Pandas"
   ]
  },
  {
   "cell_type": "markdown",
   "id": "8b433dae-19f2-4c6a-bfa5-201ad94a1977",
   "metadata": {},
   "source": [
    "## Question 1"
   ]
  },
  {
   "cell_type": "code",
   "execution_count": 1,
   "id": "4a3c2d3d-c996-4e71-a481-6c1c8cf3bb12",
   "metadata": {},
   "outputs": [],
   "source": [
    "import pandas as pd"
   ]
  },
  {
   "cell_type": "code",
   "execution_count": 2,
   "id": "ff37dba8-b52a-42c4-9c7c-d9eaaf132db6",
   "metadata": {},
   "outputs": [
    {
     "name": "stdout",
     "output_type": "stream",
     "text": [
      "0     4\n",
      "1     8\n",
      "2    15\n",
      "3    16\n",
      "4    23\n",
      "5    42\n",
      "dtype: int64\n"
     ]
    },
    {
     "data": {
      "text/plain": [
       "pandas.core.series.Series"
      ]
     },
     "execution_count": 2,
     "metadata": {},
     "output_type": "execute_result"
    }
   ],
   "source": [
    "pan_series = pd.Series([4, 8, 15, 16, 23, 42])\n",
    "print(pan_series)\n",
    "type(pan_series)"
   ]
  },
  {
   "cell_type": "markdown",
   "id": "470e78ae-9d69-4421-bea6-3713b2f0ae64",
   "metadata": {},
   "source": [
    "## Question 2"
   ]
  },
  {
   "cell_type": "code",
   "execution_count": 3,
   "id": "e5ba559a-ed76-4030-a592-a05937f7127c",
   "metadata": {},
   "outputs": [
    {
     "name": "stdout",
     "output_type": "stream",
     "text": [
      "0     0\n",
      "1     4\n",
      "2     8\n",
      "3    15\n",
      "4    16\n",
      "5    23\n",
      "6    42\n",
      "7    10\n",
      "8    31\n",
      "9    23\n",
      "dtype: int64\n"
     ]
    },
    {
     "data": {
      "text/plain": [
       "pandas.core.series.Series"
      ]
     },
     "execution_count": 3,
     "metadata": {},
     "output_type": "execute_result"
    }
   ],
   "source": [
    "nums = [0, 4, 8, 15, 16, 23, 42, 10, 31, 23]\n",
    "pan_series = pd.Series(nums)\n",
    "print(pan_series)\n",
    "type(pan_series)"
   ]
  },
  {
   "cell_type": "markdown",
   "id": "8d80e4d2-7152-4082-a928-e50c41d28fc5",
   "metadata": {},
   "source": [
    "## Question 3"
   ]
  },
  {
   "cell_type": "code",
   "execution_count": 4,
   "id": "147e0b22-b175-4db6-af29-4c641a1d18a6",
   "metadata": {},
   "outputs": [
    {
     "data": {
      "text/html": [
       "<div>\n",
       "<style scoped>\n",
       "    .dataframe tbody tr th:only-of-type {\n",
       "        vertical-align: middle;\n",
       "    }\n",
       "\n",
       "    .dataframe tbody tr th {\n",
       "        vertical-align: top;\n",
       "    }\n",
       "\n",
       "    .dataframe thead th {\n",
       "        text-align: right;\n",
       "    }\n",
       "</style>\n",
       "<table border=\"1\" class=\"dataframe\">\n",
       "  <thead>\n",
       "    <tr style=\"text-align: right;\">\n",
       "      <th></th>\n",
       "      <th>Name</th>\n",
       "      <th>age</th>\n",
       "      <th>Gender</th>\n",
       "    </tr>\n",
       "  </thead>\n",
       "  <tbody>\n",
       "    <tr>\n",
       "      <th>0</th>\n",
       "      <td>Alice</td>\n",
       "      <td>25</td>\n",
       "      <td>Female</td>\n",
       "    </tr>\n",
       "    <tr>\n",
       "      <th>1</th>\n",
       "      <td>Bob</td>\n",
       "      <td>30</td>\n",
       "      <td>Male</td>\n",
       "    </tr>\n",
       "    <tr>\n",
       "      <th>2</th>\n",
       "      <td>Claire</td>\n",
       "      <td>27</td>\n",
       "      <td>Female</td>\n",
       "    </tr>\n",
       "  </tbody>\n",
       "</table>\n",
       "</div>"
      ],
      "text/plain": [
       "     Name  age  Gender\n",
       "0   Alice   25  Female\n",
       "1     Bob   30    Male\n",
       "2  Claire   27  Female"
      ]
     },
     "execution_count": 4,
     "metadata": {},
     "output_type": "execute_result"
    }
   ],
   "source": [
    "df = pd.DataFrame({\"Name\": [\"Alice\", \"Bob\", \"Claire\"], \"age\": [25, 30, 27], \"Gender\": [\"Female\", \"Male\", \"Female\"]})\n",
    "df"
   ]
  },
  {
   "cell_type": "markdown",
   "id": "d7b5c52b-8023-4a2e-8e57-cea75e32c668",
   "metadata": {},
   "source": [
    "## Question 4"
   ]
  },
  {
   "cell_type": "markdown",
   "id": "5b10127d-4272-4df7-b70d-564cb3209a66",
   "metadata": {},
   "source": [
    "### What is ‘DataFrame’ in pandas and how is it different from pandas.series? Explain with an example.\n",
    "#### A Pandas DataFrame is a 2 dimensional data structure, like a 2 dimensional array, or a table with rows and columns.\n",
    "#### Pandas Series is one dimensional, homogenous(series elements must be of the same data type) and Size immutable(Once created, the size of a Series object cannot be changed). whereas Pandas DataFrame is two dimensional, heterogenous(DataFrame elements can have different data types) and size mutable(Elements can be dropped or added in an existing DataFrame)."
   ]
  },
  {
   "cell_type": "markdown",
   "id": "231661dc-f463-4648-a9d2-166b5c97ada4",
   "metadata": {},
   "source": [
    "## Question 5"
   ]
  },
  {
   "cell_type": "markdown",
   "id": "6e0bddef-f8c5-4a3f-a26e-23a586044af8",
   "metadata": {},
   "source": [
    "### What are some common functions you can use to manipulate data in a Pandas DataFrame?\n",
    "1. Dropping columns in the data\n",
    "2. Dropping rows in the data\n",
    "3. Renaming a column in the dataset\n",
    "4. Select columns with specific data types\n",
    "5. Slicing the dataset\n",
    "6. Select specific values in the column\n",
    "7. Group by in DataFrame\n",
    "8. Replacing values in a DataFrame\n",
    "9. Save the DataFrame as a CSV file\n",
    "and many more."
   ]
  },
  {
   "cell_type": "code",
   "execution_count": 5,
   "id": "eb3a5ceb-b64e-4a9e-95a9-a898bd309681",
   "metadata": {},
   "outputs": [
    {
     "name": "stdout",
     "output_type": "stream",
     "text": [
      "0    Female\n",
      "1      Male\n",
      "2    Female\n",
      "Name: Gender, dtype: object\n",
      "0     Alice\n",
      "1       Bob\n",
      "2    Claire\n",
      "Name: Name, dtype: object\n"
     ]
    }
   ],
   "source": [
    "## Example - Slicing the data frame\n",
    "print(df.iloc[:3, 2])\n",
    "print(df.loc[:3, 'Name'])"
   ]
  },
  {
   "cell_type": "markdown",
   "id": "5a53307f-7780-444d-bc7f-de78f9aa0416",
   "metadata": {},
   "source": [
    "## Question 6"
   ]
  },
  {
   "cell_type": "markdown",
   "id": "d42f6a11-861c-4090-bcf0-9ae776cdfc6c",
   "metadata": {},
   "source": [
    "### Which of the following is mutable in nature Series, DataFrame, Panel?\n",
    "#### These are actually pandas data structures and all Pandas data structures are value mutable (can be changed) and except Series all are size mutable. Series is size immutable."
   ]
  },
  {
   "cell_type": "markdown",
   "id": "56e3c418-8d1b-4636-bca7-c1083b7329a8",
   "metadata": {},
   "source": [
    "## Question 7"
   ]
  },
  {
   "cell_type": "code",
   "execution_count": 6,
   "id": "42a0bf6b-be34-49b0-ab8d-ed5d92886c6f",
   "metadata": {},
   "outputs": [
    {
     "name": "stdout",
     "output_type": "stream",
     "text": [
      "         0      1     2\n",
      "0    Spark  22000  1000\n",
      "1  PySpark  25000  2300\n",
      "2   Hadoop  23000  1000\n"
     ]
    },
    {
     "data": {
      "text/plain": [
       "pandas.core.frame.DataFrame"
      ]
     },
     "execution_count": 6,
     "metadata": {},
     "output_type": "execute_result"
    }
   ],
   "source": [
    "## Create a DataFrame using multiple Series. Explain with an example.\n",
    "\n",
    "courses = pd.Series([\"Spark\",\"PySpark\",\"Hadoop\"])\n",
    "fees = pd.Series([22000,25000,23000])\n",
    "discount  = pd.Series([1000,2300,1000])\n",
    "\n",
    "df=pd.concat([courses,fees,discount],axis=1)\n",
    "print(df)\n",
    "type(df)"
   ]
  },
  {
   "cell_type": "code",
   "execution_count": null,
   "id": "0914855a-08df-471c-9968-f17dd9cb76f5",
   "metadata": {},
   "outputs": [],
   "source": []
  },
  {
   "cell_type": "code",
   "execution_count": null,
   "id": "cf04cf57-5eb4-4b52-9ba9-9bba6454d47b",
   "metadata": {},
   "outputs": [],
   "source": []
  }
 ],
 "metadata": {
  "kernelspec": {
   "display_name": "Python 3 (ipykernel)",
   "language": "python",
   "name": "python3"
  },
  "language_info": {
   "codemirror_mode": {
    "name": "ipython",
    "version": 3
   },
   "file_extension": ".py",
   "mimetype": "text/x-python",
   "name": "python",
   "nbconvert_exporter": "python",
   "pygments_lexer": "ipython3",
   "version": "3.10.8"
  }
 },
 "nbformat": 4,
 "nbformat_minor": 5
}
